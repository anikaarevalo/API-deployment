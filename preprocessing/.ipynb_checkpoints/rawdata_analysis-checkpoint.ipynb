{
 "cells": [
  {
   "cell_type": "markdown",
   "id": "b939e487",
   "metadata": {},
   "source": [
    "### **I. DATA PRE-PROCESSING PIPELINE**"
   ]
  },
  {
   "cell_type": "markdown",
   "id": "f2dd4a02",
   "metadata": {},
   "source": [
    "### **1. Data quality assessment**"
   ]
  },
  {
   "cell_type": "markdown",
   "id": "faedb073",
   "metadata": {},
   "source": [
    "### Data tools and file handling"
   ]
  },
  {
   "cell_type": "code",
   "execution_count": 465,
   "id": "5080047c",
   "metadata": {},
   "outputs": [],
   "source": [
    "# Importing python data analysis tools and a library to access & load relevant data set\n",
    "# Choosing plot style as well \n",
    "from sklearn import datasets\n",
    "import pandas as pd\n",
    "import numpy as np\n",
    "import seaborn as sns\n",
    "import matplotlib.pyplot as plt\n",
    "plt.style.use('ggplot')"
   ]
  },
  {
   "cell_type": "code",
   "execution_count": 466,
   "id": "e981eec9",
   "metadata": {},
   "outputs": [
    {
     "name": "stdout",
     "output_type": "stream",
     "text": [
      "['Location' 'Property type' 'Property subtype' 'Price' 'Type of sale'\n",
      " 'Number of bedrooms' 'Living area' 'Kitchen' 'Furnished' 'Open fireplace'\n",
      " 'Terrace' 'Terrace orientation' 'Garden' 'Garden orientation'\n",
      " 'Surface area land' 'Number of facades' 'Pool' 'Condition']\n"
     ]
    }
   ],
   "source": [
    "# Accessing the raw data set of house listings from a csv file web scraped from immoweb.be\n",
    "# and passing it into a pandas dataframe\n",
    "# Printing all the field names of all the columns in the data.\n",
    "with open('/Users/anix/GNT-Arai-3/content/00.projects/2ndindproj/assets/houses.csv', 'r') as csvfile:\n",
    "    df = pd.read_csv(csvfile, index_col=[0])\n",
    "print(df.columns.values) "
   ]
  },
  {
   "cell_type": "code",
   "execution_count": 467,
   "id": "45e43e39",
   "metadata": {},
   "outputs": [
    {
     "data": {
      "text/html": [
       "<div>\n",
       "<style scoped>\n",
       "    .dataframe tbody tr th:only-of-type {\n",
       "        vertical-align: middle;\n",
       "    }\n",
       "\n",
       "    .dataframe tbody tr th {\n",
       "        vertical-align: top;\n",
       "    }\n",
       "\n",
       "    .dataframe thead th {\n",
       "        text-align: right;\n",
       "    }\n",
       "</style>\n",
       "<table border=\"1\" class=\"dataframe\">\n",
       "  <thead>\n",
       "    <tr style=\"text-align: right;\">\n",
       "      <th></th>\n",
       "      <th>Location</th>\n",
       "      <th>Property type</th>\n",
       "      <th>Property subtype</th>\n",
       "      <th>Price</th>\n",
       "      <th>Type of sale</th>\n",
       "      <th>Number of bedrooms</th>\n",
       "      <th>Living area</th>\n",
       "      <th>Kitchen</th>\n",
       "      <th>Furnished</th>\n",
       "      <th>Open fireplace</th>\n",
       "      <th>Terrace</th>\n",
       "      <th>Terrace orientation</th>\n",
       "      <th>Garden</th>\n",
       "      <th>Garden orientation</th>\n",
       "      <th>Surface area land</th>\n",
       "      <th>Number of facades</th>\n",
       "      <th>Pool</th>\n",
       "      <th>Condition</th>\n",
       "    </tr>\n",
       "  </thead>\n",
       "  <tbody>\n",
       "    <tr>\n",
       "      <th>0</th>\n",
       "      <td>Verviers</td>\n",
       "      <td>HOUSE</td>\n",
       "      <td>HOUSE</td>\n",
       "      <td>296607.0</td>\n",
       "      <td>residential_sale</td>\n",
       "      <td>3.0</td>\n",
       "      <td>130.0</td>\n",
       "      <td>Unknown</td>\n",
       "      <td>False</td>\n",
       "      <td>False</td>\n",
       "      <td>True</td>\n",
       "      <td>Unknown</td>\n",
       "      <td>True</td>\n",
       "      <td>Unknown</td>\n",
       "      <td>239.0</td>\n",
       "      <td>3</td>\n",
       "      <td>NaN</td>\n",
       "      <td>AS_NEW</td>\n",
       "    </tr>\n",
       "    <tr>\n",
       "      <th>1</th>\n",
       "      <td>Haasdonk</td>\n",
       "      <td>HOUSE</td>\n",
       "      <td>HOUSE</td>\n",
       "      <td>560000.0</td>\n",
       "      <td>residential_sale</td>\n",
       "      <td>4.0</td>\n",
       "      <td>NaN</td>\n",
       "      <td>Unknown</td>\n",
       "      <td>NaN</td>\n",
       "      <td>False</td>\n",
       "      <td>Unknown</td>\n",
       "      <td>Unknown</td>\n",
       "      <td>Unknown</td>\n",
       "      <td>Unknown</td>\n",
       "      <td>626.0</td>\n",
       "      <td>3</td>\n",
       "      <td>NaN</td>\n",
       "      <td>AS_NEW</td>\n",
       "    </tr>\n",
       "    <tr>\n",
       "      <th>2</th>\n",
       "      <td>VIANE</td>\n",
       "      <td>HOUSE</td>\n",
       "      <td>HOUSE</td>\n",
       "      <td>299000.0</td>\n",
       "      <td>residential_sale</td>\n",
       "      <td>5.0</td>\n",
       "      <td>200.0</td>\n",
       "      <td>SEMI_EQUIPPED</td>\n",
       "      <td>False</td>\n",
       "      <td>False</td>\n",
       "      <td>Unknown</td>\n",
       "      <td>Unknown</td>\n",
       "      <td>Unknown</td>\n",
       "      <td>Unknown</td>\n",
       "      <td>1150.0</td>\n",
       "      <td>NaN</td>\n",
       "      <td>NaN</td>\n",
       "      <td>GOOD</td>\n",
       "    </tr>\n",
       "    <tr>\n",
       "      <th>3</th>\n",
       "      <td>Gerpinnes</td>\n",
       "      <td>HOUSE</td>\n",
       "      <td>HOUSE</td>\n",
       "      <td>300000.0</td>\n",
       "      <td>residential_sale</td>\n",
       "      <td>0.0</td>\n",
       "      <td>270.0</td>\n",
       "      <td>Unknown</td>\n",
       "      <td>False</td>\n",
       "      <td>False</td>\n",
       "      <td>True</td>\n",
       "      <td>SOUTH</td>\n",
       "      <td>True</td>\n",
       "      <td>SOUTH</td>\n",
       "      <td>498.0</td>\n",
       "      <td>3</td>\n",
       "      <td>False</td>\n",
       "      <td>NaN</td>\n",
       "    </tr>\n",
       "    <tr>\n",
       "      <th>4</th>\n",
       "      <td>Nivelles</td>\n",
       "      <td>HOUSE</td>\n",
       "      <td>HOUSE</td>\n",
       "      <td>195000.0</td>\n",
       "      <td>residential_sale</td>\n",
       "      <td>3.0</td>\n",
       "      <td>135.0</td>\n",
       "      <td>INSTALLED</td>\n",
       "      <td>False</td>\n",
       "      <td>False</td>\n",
       "      <td>True</td>\n",
       "      <td>Unknown</td>\n",
       "      <td>Unknown</td>\n",
       "      <td>Unknown</td>\n",
       "      <td>165.0</td>\n",
       "      <td>2</td>\n",
       "      <td>False</td>\n",
       "      <td>NaN</td>\n",
       "    </tr>\n",
       "  </tbody>\n",
       "</table>\n",
       "</div>"
      ],
      "text/plain": [
       "    Location Property type Property subtype     Price      Type of sale  \\\n",
       "0   Verviers         HOUSE            HOUSE  296607.0  residential_sale   \n",
       "1   Haasdonk         HOUSE            HOUSE  560000.0  residential_sale   \n",
       "2      VIANE         HOUSE            HOUSE  299000.0  residential_sale   \n",
       "3  Gerpinnes         HOUSE            HOUSE  300000.0  residential_sale   \n",
       "4   Nivelles         HOUSE            HOUSE  195000.0  residential_sale   \n",
       "\n",
       "   Number of bedrooms  Living area        Kitchen Furnished  Open fireplace  \\\n",
       "0                 3.0        130.0        Unknown     False           False   \n",
       "1                 4.0          NaN        Unknown       NaN           False   \n",
       "2                 5.0        200.0  SEMI_EQUIPPED     False           False   \n",
       "3                 0.0        270.0        Unknown     False           False   \n",
       "4                 3.0        135.0      INSTALLED     False           False   \n",
       "\n",
       "   Terrace Terrace orientation   Garden Garden orientation  Surface area land  \\\n",
       "0     True             Unknown     True            Unknown              239.0   \n",
       "1  Unknown             Unknown  Unknown            Unknown              626.0   \n",
       "2  Unknown             Unknown  Unknown            Unknown             1150.0   \n",
       "3     True               SOUTH     True              SOUTH              498.0   \n",
       "4     True             Unknown  Unknown            Unknown              165.0   \n",
       "\n",
       "  Number of facades   Pool Condition  \n",
       "0                 3    NaN    AS_NEW  \n",
       "1                 3    NaN    AS_NEW  \n",
       "2               NaN    NaN      GOOD  \n",
       "3                 3  False       NaN  \n",
       "4                 2  False       NaN  "
      ]
     },
     "execution_count": 467,
     "metadata": {},
     "output_type": "execute_result"
    }
   ],
   "source": [
    "# Getting a glimpse of the raw data set through a pandas data frame\n",
    "df.head()"
   ]
  },
  {
   "cell_type": "code",
   "execution_count": 468,
   "id": "a49c029e",
   "metadata": {},
   "outputs": [
    {
     "data": {
      "text/plain": [
       "(10082, 18)"
      ]
     },
     "execution_count": 468,
     "metadata": {},
     "output_type": "execute_result"
    }
   ],
   "source": [
    "# Determining the number of rows and columns\n",
    "df.shape"
   ]
  },
  {
   "cell_type": "markdown",
   "id": "9d9a9e6c",
   "metadata": {},
   "source": [
    "### Exploratory Data Analysis (EDA)"
   ]
  },
  {
   "cell_type": "markdown",
   "id": "305c168a",
   "metadata": {},
   "source": [
    "### Numerical EDA"
   ]
  },
  {
   "cell_type": "markdown",
   "id": "50b4b8b2",
   "metadata": {},
   "source": [
    "For this project, we'll **focus on numerical variables** which will be **considered as features** in a machine\n",
    "learning model that will be built & trained, and deployed in a web application down the last pipeline. "
   ]
  },
  {
   "cell_type": "code",
   "execution_count": 469,
   "id": "080c5464",
   "metadata": {},
   "outputs": [
    {
     "data": {
      "text/plain": [
       "Location                object\n",
       "Property type           object\n",
       "Property subtype        object\n",
       "Price                  float64\n",
       "Type of sale            object\n",
       "Number of bedrooms     float64\n",
       "Living area            float64\n",
       "Kitchen                 object\n",
       "Furnished               object\n",
       "Open fireplace            bool\n",
       "Terrace                 object\n",
       "Terrace orientation     object\n",
       "Garden                  object\n",
       "Garden orientation      object\n",
       "Surface area land      float64\n",
       "Number of facades       object\n",
       "Pool                    object\n",
       "Condition               object\n",
       "dtype: object"
      ]
     },
     "execution_count": 469,
     "metadata": {},
     "output_type": "execute_result"
    }
   ],
   "source": [
    "# Determining the data types \n",
    "# and focusing our attention on the numerical types:\n",
    "# 'Price', 'Number of bedrooms', 'Living area',and 'Surface area land';\n",
    "# 'Property type' shall be considered as the index\n",
    "df.dtypes"
   ]
  },
  {
   "cell_type": "code",
   "execution_count": 470,
   "id": "10745127",
   "metadata": {},
   "outputs": [
    {
     "name": "stdout",
     "output_type": "stream",
     "text": [
      "['Property type' 'Price' 'Number of bedrooms' 'Living area'\n",
      " 'Surface area land']\n"
     ]
    }
   ],
   "source": [
    "# Dropping the columns APART FROM 'Property type'; Number of bedrooms', 'Living area', \n",
    "# and 'Surface area land' i.e. to be treated as features; and 'Price' to be treated as the label. \n",
    "cols = ['Location', 'Property subtype','Type of sale', 'Kitchen', 'Furnished', 'Open fireplace',\n",
    " 'Terrace', 'Terrace orientation', 'Garden', 'Garden orientation',\n",
    " 'Number of facades', 'Pool', 'Condition']\n",
    "new_df = df.drop(cols, axis=1)\n",
    "print(new_df.columns.values) "
   ]
  },
  {
   "cell_type": "code",
   "execution_count": 471,
   "id": "2d941eb9",
   "metadata": {},
   "outputs": [
    {
     "data": {
      "text/plain": [
       "(10082, 5)"
      ]
     },
     "execution_count": 471,
     "metadata": {},
     "output_type": "execute_result"
    }
   ],
   "source": [
    "# Determining the number of rows and columns in the data frame\n",
    "# The rows are the number of observations in the data frame\n",
    "new_df.shape"
   ]
  },
  {
   "cell_type": "code",
   "execution_count": 472,
   "id": "3c21bba2",
   "metadata": {},
   "outputs": [
    {
     "data": {
      "text/html": [
       "<div>\n",
       "<style scoped>\n",
       "    .dataframe tbody tr th:only-of-type {\n",
       "        vertical-align: middle;\n",
       "    }\n",
       "\n",
       "    .dataframe tbody tr th {\n",
       "        vertical-align: top;\n",
       "    }\n",
       "\n",
       "    .dataframe thead th {\n",
       "        text-align: right;\n",
       "    }\n",
       "</style>\n",
       "<table border=\"1\" class=\"dataframe\">\n",
       "  <thead>\n",
       "    <tr style=\"text-align: right;\">\n",
       "      <th></th>\n",
       "      <th>Property type</th>\n",
       "      <th>Price</th>\n",
       "      <th>Number of bedrooms</th>\n",
       "      <th>Living area</th>\n",
       "      <th>Surface area land</th>\n",
       "    </tr>\n",
       "  </thead>\n",
       "  <tbody>\n",
       "    <tr>\n",
       "      <th>0</th>\n",
       "      <td>HOUSE</td>\n",
       "      <td>296607.0</td>\n",
       "      <td>3.0</td>\n",
       "      <td>130.0</td>\n",
       "      <td>239.0</td>\n",
       "    </tr>\n",
       "    <tr>\n",
       "      <th>1</th>\n",
       "      <td>HOUSE</td>\n",
       "      <td>560000.0</td>\n",
       "      <td>4.0</td>\n",
       "      <td>NaN</td>\n",
       "      <td>626.0</td>\n",
       "    </tr>\n",
       "    <tr>\n",
       "      <th>2</th>\n",
       "      <td>HOUSE</td>\n",
       "      <td>299000.0</td>\n",
       "      <td>5.0</td>\n",
       "      <td>200.0</td>\n",
       "      <td>1150.0</td>\n",
       "    </tr>\n",
       "    <tr>\n",
       "      <th>3</th>\n",
       "      <td>HOUSE</td>\n",
       "      <td>300000.0</td>\n",
       "      <td>0.0</td>\n",
       "      <td>270.0</td>\n",
       "      <td>498.0</td>\n",
       "    </tr>\n",
       "    <tr>\n",
       "      <th>4</th>\n",
       "      <td>HOUSE</td>\n",
       "      <td>195000.0</td>\n",
       "      <td>3.0</td>\n",
       "      <td>135.0</td>\n",
       "      <td>165.0</td>\n",
       "    </tr>\n",
       "  </tbody>\n",
       "</table>\n",
       "</div>"
      ],
      "text/plain": [
       "  Property type     Price  Number of bedrooms  Living area  Surface area land\n",
       "0         HOUSE  296607.0                 3.0        130.0              239.0\n",
       "1         HOUSE  560000.0                 4.0          NaN              626.0\n",
       "2         HOUSE  299000.0                 5.0        200.0             1150.0\n",
       "3         HOUSE  300000.0                 0.0        270.0              498.0\n",
       "4         HOUSE  195000.0                 3.0        135.0              165.0"
      ]
     },
     "execution_count": 472,
     "metadata": {},
     "output_type": "execute_result"
    }
   ],
   "source": [
    "# Getting a glimpse of the first few rows of the new data frame\n",
    "# We can already see that there are problemmatic/unsatisfactory data fields that cannot be processed as \n",
    "# numerical attributes (e.g. NaN in 'Living area' understood as a measurement) which we shall take into account\n",
    "# in step 2. Data Cleaning \n",
    "new_df.head()"
   ]
  },
  {
   "cell_type": "code",
   "execution_count": 473,
   "id": "afd86272",
   "metadata": {},
   "outputs": [
    {
     "data": {
      "text/plain": [
       "Property type          object\n",
       "Price                 float64\n",
       "Number of bedrooms    float64\n",
       "Living area           float64\n",
       "Surface area land     float64\n",
       "dtype: object"
      ]
     },
     "execution_count": 473,
     "metadata": {},
     "output_type": "execute_result"
    }
   ],
   "source": [
    "# Making sure again that the columns of the new data frame (that will be treated as features in the upcoming\n",
    "# machine learning model) indeed contain numerical variables \n",
    "new_df.dtypes"
   ]
  },
  {
   "cell_type": "code",
   "execution_count": 474,
   "id": "f43b2224",
   "metadata": {},
   "outputs": [
    {
     "data": {
      "text/html": [
       "<div>\n",
       "<style scoped>\n",
       "    .dataframe tbody tr th:only-of-type {\n",
       "        vertical-align: middle;\n",
       "    }\n",
       "\n",
       "    .dataframe tbody tr th {\n",
       "        vertical-align: top;\n",
       "    }\n",
       "\n",
       "    .dataframe thead th {\n",
       "        text-align: right;\n",
       "    }\n",
       "</style>\n",
       "<table border=\"1\" class=\"dataframe\">\n",
       "  <thead>\n",
       "    <tr style=\"text-align: right;\">\n",
       "      <th></th>\n",
       "      <th>Price</th>\n",
       "      <th>Number of bedrooms</th>\n",
       "      <th>Living area</th>\n",
       "      <th>Surface area land</th>\n",
       "    </tr>\n",
       "  </thead>\n",
       "  <tbody>\n",
       "    <tr>\n",
       "      <th>count</th>\n",
       "      <td>9.958000e+03</td>\n",
       "      <td>9970.000000</td>\n",
       "      <td>7750.000000</td>\n",
       "      <td>9970.000000</td>\n",
       "    </tr>\n",
       "    <tr>\n",
       "      <th>mean</th>\n",
       "      <td>4.027817e+05</td>\n",
       "      <td>3.500802</td>\n",
       "      <td>212.910065</td>\n",
       "      <td>910.493781</td>\n",
       "    </tr>\n",
       "    <tr>\n",
       "      <th>std</th>\n",
       "      <td>4.955725e+05</td>\n",
       "      <td>3.784634</td>\n",
       "      <td>174.816390</td>\n",
       "      <td>5780.217055</td>\n",
       "    </tr>\n",
       "    <tr>\n",
       "      <th>min</th>\n",
       "      <td>2.500000e+03</td>\n",
       "      <td>0.000000</td>\n",
       "      <td>7.000000</td>\n",
       "      <td>0.000000</td>\n",
       "    </tr>\n",
       "    <tr>\n",
       "      <th>25%</th>\n",
       "      <td>2.250000e+05</td>\n",
       "      <td>3.000000</td>\n",
       "      <td>137.000000</td>\n",
       "      <td>126.000000</td>\n",
       "    </tr>\n",
       "    <tr>\n",
       "      <th>50%</th>\n",
       "      <td>3.200000e+05</td>\n",
       "      <td>3.000000</td>\n",
       "      <td>175.000000</td>\n",
       "      <td>324.000000</td>\n",
       "    </tr>\n",
       "    <tr>\n",
       "      <th>75%</th>\n",
       "      <td>4.485668e+05</td>\n",
       "      <td>4.000000</td>\n",
       "      <td>237.750000</td>\n",
       "      <td>755.000000</td>\n",
       "    </tr>\n",
       "    <tr>\n",
       "      <th>max</th>\n",
       "      <td>3.500000e+07</td>\n",
       "      <td>333.000000</td>\n",
       "      <td>6200.000000</td>\n",
       "      <td>424913.000000</td>\n",
       "    </tr>\n",
       "  </tbody>\n",
       "</table>\n",
       "</div>"
      ],
      "text/plain": [
       "              Price  Number of bedrooms  Living area  Surface area land\n",
       "count  9.958000e+03         9970.000000  7750.000000        9970.000000\n",
       "mean   4.027817e+05            3.500802   212.910065         910.493781\n",
       "std    4.955725e+05            3.784634   174.816390        5780.217055\n",
       "min    2.500000e+03            0.000000     7.000000           0.000000\n",
       "25%    2.250000e+05            3.000000   137.000000         126.000000\n",
       "50%    3.200000e+05            3.000000   175.000000         324.000000\n",
       "75%    4.485668e+05            4.000000   237.750000         755.000000\n",
       "max    3.500000e+07          333.000000  6200.000000      424913.000000"
      ]
     },
     "execution_count": 474,
     "metadata": {},
     "output_type": "execute_result"
    }
   ],
   "source": [
    "# Getting statistical information on the new data frame\n",
    "# This information will prove useful when we start exploring the data frame through visuals\n",
    "new_df.describe()"
   ]
  },
  {
   "cell_type": "markdown",
   "id": "72bd3d9f",
   "metadata": {},
   "source": [
    "**A. LOCATING NaN VALUES**\n",
    "We prefer that there are no NaN values in the data fields of the numerical attributes 'Price,' 'Number of bedrooms',\n",
    "'Living area' and 'Surface area land.' To find out if there indeed are, we have to sort the values passing the \n",
    "using the pandas .sort_values() method and passing esp. the positional argument 'na_position=\"first\"' to locate\n",
    "NaN values."
   ]
  },
  {
   "cell_type": "code",
   "execution_count": 475,
   "id": "b0bd18f3",
   "metadata": {},
   "outputs": [
    {
     "data": {
      "text/html": [
       "<div>\n",
       "<style scoped>\n",
       "    .dataframe tbody tr th:only-of-type {\n",
       "        vertical-align: middle;\n",
       "    }\n",
       "\n",
       "    .dataframe tbody tr th {\n",
       "        vertical-align: top;\n",
       "    }\n",
       "\n",
       "    .dataframe thead th {\n",
       "        text-align: right;\n",
       "    }\n",
       "</style>\n",
       "<table border=\"1\" class=\"dataframe\">\n",
       "  <thead>\n",
       "    <tr style=\"text-align: right;\">\n",
       "      <th></th>\n",
       "      <th>Property type</th>\n",
       "      <th>Price</th>\n",
       "      <th>Number of bedrooms</th>\n",
       "      <th>Living area</th>\n",
       "      <th>Surface area land</th>\n",
       "    </tr>\n",
       "  </thead>\n",
       "  <tbody>\n",
       "    <tr>\n",
       "      <th>342</th>\n",
       "      <td>HOUSE_GROUP</td>\n",
       "      <td>NaN</td>\n",
       "      <td>NaN</td>\n",
       "      <td>NaN</td>\n",
       "      <td>NaN</td>\n",
       "    </tr>\n",
       "    <tr>\n",
       "      <th>343</th>\n",
       "      <td>HOUSE_GROUP</td>\n",
       "      <td>NaN</td>\n",
       "      <td>NaN</td>\n",
       "      <td>NaN</td>\n",
       "      <td>NaN</td>\n",
       "    </tr>\n",
       "    <tr>\n",
       "      <th>378</th>\n",
       "      <td>HOUSE_GROUP</td>\n",
       "      <td>NaN</td>\n",
       "      <td>NaN</td>\n",
       "      <td>NaN</td>\n",
       "      <td>NaN</td>\n",
       "    </tr>\n",
       "    <tr>\n",
       "      <th>379</th>\n",
       "      <td>HOUSE_GROUP</td>\n",
       "      <td>NaN</td>\n",
       "      <td>NaN</td>\n",
       "      <td>NaN</td>\n",
       "      <td>NaN</td>\n",
       "    </tr>\n",
       "    <tr>\n",
       "      <th>380</th>\n",
       "      <td>HOUSE_GROUP</td>\n",
       "      <td>NaN</td>\n",
       "      <td>NaN</td>\n",
       "      <td>NaN</td>\n",
       "      <td>NaN</td>\n",
       "    </tr>\n",
       "    <tr>\n",
       "      <th>...</th>\n",
       "      <td>...</td>\n",
       "      <td>...</td>\n",
       "      <td>...</td>\n",
       "      <td>...</td>\n",
       "      <td>...</td>\n",
       "    </tr>\n",
       "    <tr>\n",
       "      <th>233</th>\n",
       "      <td>HOUSE</td>\n",
       "      <td>14900.0</td>\n",
       "      <td>2.0</td>\n",
       "      <td>32.0</td>\n",
       "      <td>200.0</td>\n",
       "    </tr>\n",
       "    <tr>\n",
       "      <th>8635</th>\n",
       "      <td>HOUSE</td>\n",
       "      <td>10000.0</td>\n",
       "      <td>2.0</td>\n",
       "      <td>NaN</td>\n",
       "      <td>398.0</td>\n",
       "    </tr>\n",
       "    <tr>\n",
       "      <th>7753</th>\n",
       "      <td>HOUSE</td>\n",
       "      <td>2500.0</td>\n",
       "      <td>5.0</td>\n",
       "      <td>1617.0</td>\n",
       "      <td>3738.0</td>\n",
       "    </tr>\n",
       "    <tr>\n",
       "      <th>6468</th>\n",
       "      <td>HOUSE</td>\n",
       "      <td>2500.0</td>\n",
       "      <td>0.0</td>\n",
       "      <td>NaN</td>\n",
       "      <td>452.0</td>\n",
       "    </tr>\n",
       "    <tr>\n",
       "      <th>6621</th>\n",
       "      <td>HOUSE</td>\n",
       "      <td>2500.0</td>\n",
       "      <td>0.0</td>\n",
       "      <td>NaN</td>\n",
       "      <td>100.0</td>\n",
       "    </tr>\n",
       "  </tbody>\n",
       "</table>\n",
       "<p>10082 rows × 5 columns</p>\n",
       "</div>"
      ],
      "text/plain": [
       "     Property type    Price  Number of bedrooms  Living area  \\\n",
       "342    HOUSE_GROUP      NaN                 NaN          NaN   \n",
       "343    HOUSE_GROUP      NaN                 NaN          NaN   \n",
       "378    HOUSE_GROUP      NaN                 NaN          NaN   \n",
       "379    HOUSE_GROUP      NaN                 NaN          NaN   \n",
       "380    HOUSE_GROUP      NaN                 NaN          NaN   \n",
       "...            ...      ...                 ...          ...   \n",
       "233          HOUSE  14900.0                 2.0         32.0   \n",
       "8635         HOUSE  10000.0                 2.0          NaN   \n",
       "7753         HOUSE   2500.0                 5.0       1617.0   \n",
       "6468         HOUSE   2500.0                 0.0          NaN   \n",
       "6621         HOUSE   2500.0                 0.0          NaN   \n",
       "\n",
       "      Surface area land  \n",
       "342                 NaN  \n",
       "343                 NaN  \n",
       "378                 NaN  \n",
       "379                 NaN  \n",
       "380                 NaN  \n",
       "...                 ...  \n",
       "233               200.0  \n",
       "8635              398.0  \n",
       "7753             3738.0  \n",
       "6468              452.0  \n",
       "6621              100.0  \n",
       "\n",
       "[10082 rows x 5 columns]"
      ]
     },
     "execution_count": 475,
     "metadata": {},
     "output_type": "execute_result"
    }
   ],
   "source": [
    "# Simply sorting the data frame according to the column 'Price' and the positional agrument 'na_position=first' \n",
    "# (among others) to capture NaN values, we are given information of the data fields that necessitate \n",
    "# 2. Data cleaning\n",
    "new_df.sort_values(by='Price', ascending=False, na_position='first')"
   ]
  },
  {
   "cell_type": "markdown",
   "id": "be9f1ff0",
   "metadata": {},
   "source": [
    "Based on simply sorting the data frame according to locate NaN values, we now have good reason to eliminate problemmatic/undersired data fields under all of the numerical attributes (‘Price’, ‘Number of bedrooms’, ‘Living area’, and ‘Surface area land’.\n",
    "\n",
    "Additionally, there are MISMATCHED DATA TYPES under the column 'Property type.' Later on, \n",
    "we shall standardise all the values under 'Property type' and use only one descriptor: 'HOUSE'"
   ]
  },
  {
   "cell_type": "markdown",
   "id": "f030ac51",
   "metadata": {},
   "source": [
    "**B. LOCATING '0s'/zero values IN RELEVANT COLUMNS**"
   ]
  },
  {
   "cell_type": "code",
   "execution_count": 476,
   "id": "eca48efd",
   "metadata": {},
   "outputs": [
    {
     "name": "stdout",
     "output_type": "stream",
     "text": [
      "Property type          HOUSE\n",
      "Price                 2500.0\n",
      "Number of bedrooms       0.0\n",
      "Living area              7.0\n",
      "Surface area land        0.0\n",
      "dtype: object\n",
      "\n",
      "Property type         HOUSE_GROUP\n",
      "Price                  35000000.0\n",
      "Number of bedrooms          333.0\n",
      "Living area                6200.0\n",
      "Surface area land        424913.0\n",
      "dtype: object\n"
     ]
    }
   ],
   "source": [
    "# The .min() function is fast way of determining if there are '0' values in any of our numerical attributes. \n",
    "# Additionally using the .max() function it is worth taking not of the 'numerical ceiling' of the \n",
    "# numerical attributes.\n",
    "# We see that the min and max value of 'Number of bedrooms' is suspect. This info we shall cross-reference with\n",
    "# a visual EDA later on. \n",
    "print(new_df.min())\n",
    "print()\n",
    "print(new_df.max())"
   ]
  },
  {
   "cell_type": "code",
   "execution_count": 477,
   "id": "800dd948",
   "metadata": {},
   "outputs": [
    {
     "data": {
      "text/html": [
       "<div>\n",
       "<style scoped>\n",
       "    .dataframe tbody tr th:only-of-type {\n",
       "        vertical-align: middle;\n",
       "    }\n",
       "\n",
       "    .dataframe tbody tr th {\n",
       "        vertical-align: top;\n",
       "    }\n",
       "\n",
       "    .dataframe thead th {\n",
       "        text-align: right;\n",
       "    }\n",
       "</style>\n",
       "<table border=\"1\" class=\"dataframe\">\n",
       "  <thead>\n",
       "    <tr style=\"text-align: right;\">\n",
       "      <th></th>\n",
       "      <th>Property type</th>\n",
       "      <th>Price</th>\n",
       "      <th>Number of bedrooms</th>\n",
       "      <th>Living area</th>\n",
       "      <th>Surface area land</th>\n",
       "    </tr>\n",
       "  </thead>\n",
       "  <tbody>\n",
       "    <tr>\n",
       "      <th>5033</th>\n",
       "      <td>HOUSE</td>\n",
       "      <td>198000.0</td>\n",
       "      <td>2.0</td>\n",
       "      <td>95.0</td>\n",
       "      <td>0.0</td>\n",
       "    </tr>\n",
       "    <tr>\n",
       "      <th>1189</th>\n",
       "      <td>HOUSE</td>\n",
       "      <td>370000.0</td>\n",
       "      <td>3.0</td>\n",
       "      <td>110.0</td>\n",
       "      <td>0.0</td>\n",
       "    </tr>\n",
       "    <tr>\n",
       "      <th>5883</th>\n",
       "      <td>HOUSE</td>\n",
       "      <td>199900.0</td>\n",
       "      <td>2.0</td>\n",
       "      <td>153.0</td>\n",
       "      <td>0.0</td>\n",
       "    </tr>\n",
       "    <tr>\n",
       "      <th>5909</th>\n",
       "      <td>HOUSE</td>\n",
       "      <td>98000.0</td>\n",
       "      <td>2.0</td>\n",
       "      <td>91.0</td>\n",
       "      <td>0.0</td>\n",
       "    </tr>\n",
       "    <tr>\n",
       "      <th>5926</th>\n",
       "      <td>HOUSE</td>\n",
       "      <td>69000.0</td>\n",
       "      <td>1.0</td>\n",
       "      <td>NaN</td>\n",
       "      <td>0.0</td>\n",
       "    </tr>\n",
       "    <tr>\n",
       "      <th>...</th>\n",
       "      <td>...</td>\n",
       "      <td>...</td>\n",
       "      <td>...</td>\n",
       "      <td>...</td>\n",
       "      <td>...</td>\n",
       "    </tr>\n",
       "    <tr>\n",
       "      <th>9630</th>\n",
       "      <td>HOUSE_GROUP</td>\n",
       "      <td>NaN</td>\n",
       "      <td>NaN</td>\n",
       "      <td>NaN</td>\n",
       "      <td>NaN</td>\n",
       "    </tr>\n",
       "    <tr>\n",
       "      <th>9659</th>\n",
       "      <td>HOUSE_GROUP</td>\n",
       "      <td>NaN</td>\n",
       "      <td>NaN</td>\n",
       "      <td>NaN</td>\n",
       "      <td>NaN</td>\n",
       "    </tr>\n",
       "    <tr>\n",
       "      <th>9798</th>\n",
       "      <td>HOUSE_GROUP</td>\n",
       "      <td>NaN</td>\n",
       "      <td>NaN</td>\n",
       "      <td>NaN</td>\n",
       "      <td>NaN</td>\n",
       "    </tr>\n",
       "    <tr>\n",
       "      <th>10024</th>\n",
       "      <td>HOUSE_GROUP</td>\n",
       "      <td>NaN</td>\n",
       "      <td>NaN</td>\n",
       "      <td>NaN</td>\n",
       "      <td>NaN</td>\n",
       "    </tr>\n",
       "    <tr>\n",
       "      <th>10054</th>\n",
       "      <td>HOUSE_GROUP</td>\n",
       "      <td>NaN</td>\n",
       "      <td>NaN</td>\n",
       "      <td>NaN</td>\n",
       "      <td>NaN</td>\n",
       "    </tr>\n",
       "  </tbody>\n",
       "</table>\n",
       "<p>10082 rows × 5 columns</p>\n",
       "</div>"
      ],
      "text/plain": [
       "      Property type     Price  Number of bedrooms  Living area  \\\n",
       "5033          HOUSE  198000.0                 2.0         95.0   \n",
       "1189          HOUSE  370000.0                 3.0        110.0   \n",
       "5883          HOUSE  199900.0                 2.0        153.0   \n",
       "5909          HOUSE   98000.0                 2.0         91.0   \n",
       "5926          HOUSE   69000.0                 1.0          NaN   \n",
       "...             ...       ...                 ...          ...   \n",
       "9630    HOUSE_GROUP       NaN                 NaN          NaN   \n",
       "9659    HOUSE_GROUP       NaN                 NaN          NaN   \n",
       "9798    HOUSE_GROUP       NaN                 NaN          NaN   \n",
       "10024   HOUSE_GROUP       NaN                 NaN          NaN   \n",
       "10054   HOUSE_GROUP       NaN                 NaN          NaN   \n",
       "\n",
       "       Surface area land  \n",
       "5033                 0.0  \n",
       "1189                 0.0  \n",
       "5883                 0.0  \n",
       "5909                 0.0  \n",
       "5926                 0.0  \n",
       "...                  ...  \n",
       "9630                 NaN  \n",
       "9659                 NaN  \n",
       "9798                 NaN  \n",
       "10024                NaN  \n",
       "10054                NaN  \n",
       "\n",
       "[10082 rows x 5 columns]"
      ]
     },
     "execution_count": 477,
     "metadata": {},
     "output_type": "execute_result"
    }
   ],
   "source": [
    "# Numerical attributes where '0' values are problemmatic/undesired are in 'Surface area land'\n",
    "# and 'Number of bedrooms.'\n",
    "# To further prove this point, we shall sort the data frame in ascending order\n",
    "# again using the pandas .sort_values() method and passing, in particular, the positional argument of \n",
    "# the column 'Surface area land.' '\n",
    "new_df.sort_values(by=['Surface area land'], inplace=True)\n",
    "new_df"
   ]
  },
  {
   "cell_type": "code",
   "execution_count": 478,
   "id": "daf3e42a",
   "metadata": {},
   "outputs": [
    {
     "data": {
      "text/html": [
       "<div>\n",
       "<style scoped>\n",
       "    .dataframe tbody tr th:only-of-type {\n",
       "        vertical-align: middle;\n",
       "    }\n",
       "\n",
       "    .dataframe tbody tr th {\n",
       "        vertical-align: top;\n",
       "    }\n",
       "\n",
       "    .dataframe thead th {\n",
       "        text-align: right;\n",
       "    }\n",
       "</style>\n",
       "<table border=\"1\" class=\"dataframe\">\n",
       "  <thead>\n",
       "    <tr style=\"text-align: right;\">\n",
       "      <th></th>\n",
       "      <th>Property type</th>\n",
       "      <th>Price</th>\n",
       "      <th>Number of bedrooms</th>\n",
       "      <th>Living area</th>\n",
       "      <th>Surface area land</th>\n",
       "    </tr>\n",
       "  </thead>\n",
       "  <tbody>\n",
       "    <tr>\n",
       "      <th>59</th>\n",
       "      <td>HOUSE</td>\n",
       "      <td>1550000.0</td>\n",
       "      <td>0.0</td>\n",
       "      <td>500.0</td>\n",
       "      <td>0.0</td>\n",
       "    </tr>\n",
       "    <tr>\n",
       "      <th>76</th>\n",
       "      <td>HOUSE</td>\n",
       "      <td>388000.0</td>\n",
       "      <td>0.0</td>\n",
       "      <td>NaN</td>\n",
       "      <td>0.0</td>\n",
       "    </tr>\n",
       "    <tr>\n",
       "      <th>7528</th>\n",
       "      <td>HOUSE</td>\n",
       "      <td>380000.0</td>\n",
       "      <td>0.0</td>\n",
       "      <td>185.0</td>\n",
       "      <td>90.0</td>\n",
       "    </tr>\n",
       "    <tr>\n",
       "      <th>9272</th>\n",
       "      <td>HOUSE</td>\n",
       "      <td>699000.0</td>\n",
       "      <td>0.0</td>\n",
       "      <td>334.0</td>\n",
       "      <td>501.0</td>\n",
       "    </tr>\n",
       "    <tr>\n",
       "      <th>4799</th>\n",
       "      <td>HOUSE</td>\n",
       "      <td>410000.0</td>\n",
       "      <td>0.0</td>\n",
       "      <td>NaN</td>\n",
       "      <td>500.0</td>\n",
       "    </tr>\n",
       "    <tr>\n",
       "      <th>...</th>\n",
       "      <td>...</td>\n",
       "      <td>...</td>\n",
       "      <td>...</td>\n",
       "      <td>...</td>\n",
       "      <td>...</td>\n",
       "    </tr>\n",
       "    <tr>\n",
       "      <th>9630</th>\n",
       "      <td>HOUSE_GROUP</td>\n",
       "      <td>NaN</td>\n",
       "      <td>NaN</td>\n",
       "      <td>NaN</td>\n",
       "      <td>NaN</td>\n",
       "    </tr>\n",
       "    <tr>\n",
       "      <th>9659</th>\n",
       "      <td>HOUSE_GROUP</td>\n",
       "      <td>NaN</td>\n",
       "      <td>NaN</td>\n",
       "      <td>NaN</td>\n",
       "      <td>NaN</td>\n",
       "    </tr>\n",
       "    <tr>\n",
       "      <th>9798</th>\n",
       "      <td>HOUSE_GROUP</td>\n",
       "      <td>NaN</td>\n",
       "      <td>NaN</td>\n",
       "      <td>NaN</td>\n",
       "      <td>NaN</td>\n",
       "    </tr>\n",
       "    <tr>\n",
       "      <th>10024</th>\n",
       "      <td>HOUSE_GROUP</td>\n",
       "      <td>NaN</td>\n",
       "      <td>NaN</td>\n",
       "      <td>NaN</td>\n",
       "      <td>NaN</td>\n",
       "    </tr>\n",
       "    <tr>\n",
       "      <th>10054</th>\n",
       "      <td>HOUSE_GROUP</td>\n",
       "      <td>NaN</td>\n",
       "      <td>NaN</td>\n",
       "      <td>NaN</td>\n",
       "      <td>NaN</td>\n",
       "    </tr>\n",
       "  </tbody>\n",
       "</table>\n",
       "<p>10082 rows × 5 columns</p>\n",
       "</div>"
      ],
      "text/plain": [
       "      Property type      Price  Number of bedrooms  Living area  \\\n",
       "59            HOUSE  1550000.0                 0.0        500.0   \n",
       "76            HOUSE   388000.0                 0.0          NaN   \n",
       "7528          HOUSE   380000.0                 0.0        185.0   \n",
       "9272          HOUSE   699000.0                 0.0        334.0   \n",
       "4799          HOUSE   410000.0                 0.0          NaN   \n",
       "...             ...        ...                 ...          ...   \n",
       "9630    HOUSE_GROUP        NaN                 NaN          NaN   \n",
       "9659    HOUSE_GROUP        NaN                 NaN          NaN   \n",
       "9798    HOUSE_GROUP        NaN                 NaN          NaN   \n",
       "10024   HOUSE_GROUP        NaN                 NaN          NaN   \n",
       "10054   HOUSE_GROUP        NaN                 NaN          NaN   \n",
       "\n",
       "       Surface area land  \n",
       "59                   0.0  \n",
       "76                   0.0  \n",
       "7528                90.0  \n",
       "9272               501.0  \n",
       "4799               500.0  \n",
       "...                  ...  \n",
       "9630                 NaN  \n",
       "9659                 NaN  \n",
       "9798                 NaN  \n",
       "10024                NaN  \n",
       "10054                NaN  \n",
       "\n",
       "[10082 rows x 5 columns]"
      ]
     },
     "execution_count": 478,
     "metadata": {},
     "output_type": "execute_result"
    }
   ],
   "source": [
    "new_df.sort_values(by=['Number of bedrooms'], inplace=True)\n",
    "new_df"
   ]
  },
  {
   "cell_type": "markdown",
   "id": "f06d77ba",
   "metadata": {},
   "source": [
    "**C. MISMATCHED VALUES UNDER 'PROPERTY TYPE'**"
   ]
  },
  {
   "cell_type": "code",
   "execution_count": 479,
   "id": "59f48a6d",
   "metadata": {},
   "outputs": [
    {
     "data": {
      "text/plain": [
       "112"
      ]
     },
     "execution_count": 479,
     "metadata": {},
     "output_type": "execute_result"
    }
   ],
   "source": [
    "# Before we proceed to 2. Data cleaning, and in particular, standardising all the values of 'Property type'\n",
    "# into a single descriptot 'HOUSE', let's find out how many rows in the column are in fact characterised \n",
    "# as 'HOUSE_GROUP'\n",
    "len(new_df[new_df['Property type'].map (lambda x: x=='HOUSE_GROUP')])"
   ]
  },
  {
   "cell_type": "markdown",
   "id": "d1a69379",
   "metadata": {},
   "source": [
    "Because there are only a tiny fraction of the observations characterised as 'HOUSE_GROUPS' under 'Property type',\n",
    "(112 out of a total 10,082). **We shall standardise all of the categorical variable 'Property type' by using\n",
    "a single descriptor 'HOUSE.'**"
   ]
  },
  {
   "cell_type": "markdown",
   "id": "0b0e7f62",
   "metadata": {},
   "source": [
    "**D. DISCOVERING CORRELATIONS**\n",
    "To find out which features are strongly or weakly correlated, we can implement the pandas .corr() method.\n",
    "This will guide us particularly when we get to the the maching learning modelling pipeline. "
   ]
  },
  {
   "cell_type": "code",
   "execution_count": 480,
   "id": "84602c1c",
   "metadata": {},
   "outputs": [
    {
     "name": "stdout",
     "output_type": "stream",
     "text": [
      "                       Price  Number of bedrooms  Living area  \\\n",
      "Price               1.000000            0.103217     0.537601   \n",
      "Number of bedrooms  0.103217            1.000000     0.147430   \n",
      "Living area         0.537601            0.147430     1.000000   \n",
      "Surface area land   0.108227            0.031082     0.128952   \n",
      "\n",
      "                    Surface area land  \n",
      "Price                        0.108227  \n",
      "Number of bedrooms           0.031082  \n",
      "Living area                  0.128952  \n",
      "Surface area land            1.000000  \n"
     ]
    }
   ],
   "source": [
    "# Looking at possible correlations among the numerical variables\n",
    "# In the next step, we shall visualise the features that have stong positive correlations\n",
    "print(new_df.corr())"
   ]
  },
  {
   "cell_type": "markdown",
   "id": "ae995b19",
   "metadata": {},
   "source": [
    "**KEY INSIGHTS:**\n",
    "\n",
    "1. Among the numerical variables that will be treated as features, they are weakly correlated with one another \n",
    "which is a good for an upcoming predictive model.\n",
    "2. There seems to be **a moderate positive correlation between 'Price' and 'Living area'.** \n",
    "\n",
    "In a coefficient-based feature selection, the goal is to find **a feature subset with low feature-feature correlation**, to avoid redundancy, and **high feature-class correlation** to maintain or increase predictive power.\n",
    "It would be good to take note of these points when we proceed to the **II. MODELLING PIPELINE.***"
   ]
  },
  {
   "cell_type": "markdown",
   "id": "6f6bad45",
   "metadata": {},
   "source": [
    "### Visual EDA"
   ]
  },
  {
   "cell_type": "code",
   "execution_count": 481,
   "id": "5416415f",
   "metadata": {},
   "outputs": [
    {
     "data": {
      "image/png": "[encoded data removed]",
      "text/plain": [
       "<Figure size 2160x1440 with 2 Axes>"
      ]
     },
     "metadata": {},
     "output_type": "display_data"
    }
   ],
   "source": [
    "# Visualising the correlations among the numerical attributes using a heatmap\n",
    "plt.figure(figsize=(30,20))\n",
    "corr = new_df.corr()\n",
    "sns.heatmap(corr,annot=True,cmap=sns.diverging_palette(200, 10, as_cmap=True))\n",
    "plt.show()"
   ]
  },
  {
   "cell_type": "code",
   "execution_count": 482,
   "id": "2ad4ab85",
   "metadata": {},
   "outputs": [
    {
     "data": {
      "image/png": "[encoded data removed]",
      "text/plain": [
       "<Figure size 540x252 with 1 Axes>"
      ]
     },
     "metadata": {},
     "output_type": "display_data"
    },
    {
     "data": {
      "image/png": "[encoded data removed]",
      "text/plain": [
       "<Figure size 540x252 with 1 Axes>"
      ]
     },
     "metadata": {},
     "output_type": "display_data"
    },
    {
     "data": {
      "image/png": "[encoded data removed]",
      "text/plain": [
       "<Figure size 540x252 with 1 Axes>"
      ]
     },
     "metadata": {},
     "output_type": "display_data"
    },
    {
     "data": {
      "image/png": "[encoded data removed]",
      "text/plain": [
       "<Figure size 540x252 with 1 Axes>"
      ]
     },
     "metadata": {},
     "output_type": "display_data"
    },
    {
     "data": {
      "image/png": "[encoded data removed]",
      "text/plain": [
       "<Figure size 540x252 with 1 Axes>"
      ]
     },
     "metadata": {},
     "output_type": "display_data"
    }
   ],
   "source": [
    "#Visualising the distribution of data under each numerical attribute\n",
    "for i in new_df.columns:\n",
    "    plt.hist(new_df[i])\n",
    "    plt.title(i)\n",
    "    plt.show()"
   ]
  },
  {
   "cell_type": "markdown",
   "id": "103a9eef",
   "metadata": {},
   "source": [
    "**X = numerical variables 'Number of bedrooms', 'Living area' and 'Surface living area\n",
    "in relation to y = 'Price'**"
   ]
  },
  {
   "cell_type": "markdown",
   "id": "c845e5c2",
   "metadata": {},
   "source": [
    "**A. 'Number of bedrooms'**"
   ]
  },
  {
   "cell_type": "code",
   "execution_count": 418,
   "id": "31c227be",
   "metadata": {},
   "outputs": [
    {
     "data": {
      "image/png": "[encoded data removed]",
      "text/plain": [
       "<Figure size 540x252 with 1 Axes>"
      ]
     },
     "metadata": {},
     "output_type": "display_data"
    }
   ],
   "source": [
    "# We can create a frequency plot to see which values under 'Number of bedrooms' are available and give us\n",
    "# a concrete idea of the count of each value\n",
    "# The information coincides with the stat info generated earlier from executing pandas .describe() function\n",
    "plt.rcParams[\"figure.figsize\"] = [7.50, 3.50]\n",
    "plt.rcParams[\"figure.autolayout\"] = True\n",
    "\n",
    "fig, ax = plt.subplots()\n",
    "\n",
    "new_df['Number of bedrooms'].value_counts().plot(ax=ax, kind='bar', xlabel='numbers', ylabel='frequency')\n",
    "\n",
    "plt.show()"
   ]
  },
  {
   "cell_type": "markdown",
   "id": "255e0533",
   "metadata": {},
   "source": [
    "This gives us a good idea of the **distribution of the number of bedrooms** of all observations in the data "
   ]
  },
  {
   "cell_type": "markdown",
   "id": "31d21cc9",
   "metadata": {},
   "source": [
    "We can now imagine **a set of ranges of the number of bedrooms**\n",
    "Obviously **333.0 or 0 number of bedrooms** for example, **are undesired** and shall be dealt with later. \n",
    "We shall work with **a set of ranges of number of bedrooms for our inevitable predictive model.**"
   ]
  },
  {
   "cell_type": "code",
   "execution_count": 419,
   "id": "ca69b11d",
   "metadata": {},
   "outputs": [
    {
     "data": {
      "text/html": [
       "<div>\n",
       "<style scoped>\n",
       "    .dataframe tbody tr th:only-of-type {\n",
       "        vertical-align: middle;\n",
       "    }\n",
       "\n",
       "    .dataframe tbody tr th {\n",
       "        vertical-align: top;\n",
       "    }\n",
       "\n",
       "    .dataframe thead th {\n",
       "        text-align: right;\n",
       "    }\n",
       "</style>\n",
       "<table border=\"1\" class=\"dataframe\">\n",
       "  <thead>\n",
       "    <tr style=\"text-align: right;\">\n",
       "      <th></th>\n",
       "      <th>Price</th>\n",
       "      <th>Number of bedrooms</th>\n",
       "    </tr>\n",
       "  </thead>\n",
       "  <tbody>\n",
       "    <tr>\n",
       "      <th>59</th>\n",
       "      <td>1550000.0</td>\n",
       "      <td>0.0</td>\n",
       "    </tr>\n",
       "    <tr>\n",
       "      <th>76</th>\n",
       "      <td>388000.0</td>\n",
       "      <td>0.0</td>\n",
       "    </tr>\n",
       "    <tr>\n",
       "      <th>7528</th>\n",
       "      <td>380000.0</td>\n",
       "      <td>0.0</td>\n",
       "    </tr>\n",
       "    <tr>\n",
       "      <th>9272</th>\n",
       "      <td>699000.0</td>\n",
       "      <td>0.0</td>\n",
       "    </tr>\n",
       "    <tr>\n",
       "      <th>4799</th>\n",
       "      <td>410000.0</td>\n",
       "      <td>0.0</td>\n",
       "    </tr>\n",
       "  </tbody>\n",
       "</table>\n",
       "</div>"
      ],
      "text/plain": [
       "          Price  Number of bedrooms\n",
       "59    1550000.0                 0.0\n",
       "76     388000.0                 0.0\n",
       "7528   380000.0                 0.0\n",
       "9272   699000.0                 0.0\n",
       "4799   410000.0                 0.0"
      ]
     },
     "execution_count": 419,
     "metadata": {},
     "output_type": "execute_result"
    }
   ],
   "source": [
    "# Before we provide a glimpse of the correlation between the numerical variables of 'Number of bedrooms' and \n",
    "# 'Price', let's extract a sample and pass that onto a new data frame\n",
    "bedrooms_df = new_df[['Price', 'Number of bedrooms']]\n",
    "bedrooms_df.head()"
   ]
  },
  {
   "cell_type": "code",
   "execution_count": 320,
   "id": "23e6fde4",
   "metadata": {},
   "outputs": [
    {
     "name": "stderr",
     "output_type": "stream",
     "text": [
      "/Users/anix/opt/anaconda3/lib/python3.9/site-packages/pandas/util/_decorators.py:311: SettingWithCopyWarning: \n",
      "A value is trying to be set on a copy of a slice from a DataFrame\n",
      "\n",
      "See the caveats in the documentation: https://pandas.pydata.org/pandas-docs/stable/user_guide/indexing.html#returning-a-view-versus-a-copy\n",
      "  return func(*args, **kwargs)\n"
     ]
    },
    {
     "data": {
      "text/html": [
       "<div>\n",
       "<style scoped>\n",
       "    .dataframe tbody tr th:only-of-type {\n",
       "        vertical-align: middle;\n",
       "    }\n",
       "\n",
       "    .dataframe tbody tr th {\n",
       "        vertical-align: top;\n",
       "    }\n",
       "\n",
       "    .dataframe thead th {\n",
       "        text-align: right;\n",
       "    }\n",
       "</style>\n",
       "<table border=\"1\" class=\"dataframe\">\n",
       "  <thead>\n",
       "    <tr style=\"text-align: right;\">\n",
       "      <th></th>\n",
       "      <th>Price</th>\n",
       "      <th>Number of bedrooms</th>\n",
       "    </tr>\n",
       "  </thead>\n",
       "  <tbody>\n",
       "    <tr>\n",
       "      <th>6621</th>\n",
       "      <td>2500.0</td>\n",
       "      <td>0.0</td>\n",
       "    </tr>\n",
       "    <tr>\n",
       "      <th>6468</th>\n",
       "      <td>2500.0</td>\n",
       "      <td>0.0</td>\n",
       "    </tr>\n",
       "    <tr>\n",
       "      <th>7753</th>\n",
       "      <td>2500.0</td>\n",
       "      <td>5.0</td>\n",
       "    </tr>\n",
       "    <tr>\n",
       "      <th>8635</th>\n",
       "      <td>10000.0</td>\n",
       "      <td>2.0</td>\n",
       "    </tr>\n",
       "    <tr>\n",
       "      <th>233</th>\n",
       "      <td>14900.0</td>\n",
       "      <td>2.0</td>\n",
       "    </tr>\n",
       "  </tbody>\n",
       "</table>\n",
       "</div>"
      ],
      "text/plain": [
       "        Price  Number of bedrooms\n",
       "6621   2500.0                 0.0\n",
       "6468   2500.0                 0.0\n",
       "7753   2500.0                 5.0\n",
       "8635  10000.0                 2.0\n",
       "233   14900.0                 2.0"
      ]
     },
     "execution_count": 320,
     "metadata": {},
     "output_type": "execute_result"
    }
   ],
   "source": [
    "# Sorting values by 'Price' in this downsized data frame whose only other column is 'Number of bedrooms'\n",
    "bedrooms_df.sort_values(by=['Price'], inplace=True)\n",
    "bedrooms_df.head()"
   ]
  },
  {
   "cell_type": "code",
   "execution_count": 420,
   "id": "ed608af9",
   "metadata": {},
   "outputs": [
    {
     "data": {
      "text/plain": [
       "(1000, 2)"
      ]
     },
     "execution_count": 420,
     "metadata": {},
     "output_type": "execute_result"
    }
   ],
   "source": [
    "# Selecting specific rows and columns from the data frame\n",
    "# A few more steps before we can visualise a sample of a data frame that has only 'Price' and 'Number of bedrooms' as \n",
    "# fields\n",
    "sample_bedroomsdf = bedrooms_df.iloc[0:1000]\n",
    "sample_bedroomsdf.shape"
   ]
  },
  {
   "cell_type": "code",
   "execution_count": 421,
   "id": "0d6bdeaa",
   "metadata": {},
   "outputs": [
    {
     "data": {
      "text/html": [
       "<div>\n",
       "<style scoped>\n",
       "    .dataframe tbody tr th:only-of-type {\n",
       "        vertical-align: middle;\n",
       "    }\n",
       "\n",
       "    .dataframe tbody tr th {\n",
       "        vertical-align: top;\n",
       "    }\n",
       "\n",
       "    .dataframe thead th {\n",
       "        text-align: right;\n",
       "    }\n",
       "</style>\n",
       "<table border=\"1\" class=\"dataframe\">\n",
       "  <thead>\n",
       "    <tr style=\"text-align: right;\">\n",
       "      <th></th>\n",
       "      <th>Price</th>\n",
       "      <th>Number of bedrooms</th>\n",
       "    </tr>\n",
       "  </thead>\n",
       "  <tbody>\n",
       "    <tr>\n",
       "      <th>59</th>\n",
       "      <td>1550000.0</td>\n",
       "      <td>0.0</td>\n",
       "    </tr>\n",
       "    <tr>\n",
       "      <th>76</th>\n",
       "      <td>388000.0</td>\n",
       "      <td>0.0</td>\n",
       "    </tr>\n",
       "    <tr>\n",
       "      <th>7528</th>\n",
       "      <td>380000.0</td>\n",
       "      <td>0.0</td>\n",
       "    </tr>\n",
       "    <tr>\n",
       "      <th>9272</th>\n",
       "      <td>699000.0</td>\n",
       "      <td>0.0</td>\n",
       "    </tr>\n",
       "    <tr>\n",
       "      <th>4799</th>\n",
       "      <td>410000.0</td>\n",
       "      <td>0.0</td>\n",
       "    </tr>\n",
       "  </tbody>\n",
       "</table>\n",
       "</div>"
      ],
      "text/plain": [
       "          Price  Number of bedrooms\n",
       "59    1550000.0                 0.0\n",
       "76     388000.0                 0.0\n",
       "7528   380000.0                 0.0\n",
       "9272   699000.0                 0.0\n",
       "4799   410000.0                 0.0"
      ]
     },
     "execution_count": 421,
     "metadata": {},
     "output_type": "execute_result"
    }
   ],
   "source": [
    "# Getting a glimpse of the downsized data frame\n",
    "# The NaN values will be dealt with later\n",
    "sample_bedroomsdf.sort_values('Price')\n",
    "sample_bedroomsdf.head()"
   ]
  },
  {
   "cell_type": "code",
   "execution_count": 422,
   "id": "3d6a6152",
   "metadata": {},
   "outputs": [
    {
     "name": "stderr",
     "output_type": "stream",
     "text": [
      "/Users/anix/opt/anaconda3/lib/python3.9/site-packages/seaborn/_decorators.py:36: FutureWarning: Pass the following variables as keyword args: x, y. From version 0.12, the only valid positional argument will be `data`, and passing other arguments without an explicit keyword will result in an error or misinterpretation.\n",
      "  warnings.warn(\n"
     ]
    },
    {
     "data": {
      "image/png": "[encoded data removed]",
      "text/plain": [
       "<Figure size 540x252 with 1 Axes>"
      ]
     },
     "metadata": {},
     "output_type": "display_data"
    }
   ],
   "source": [
    "# Plotting scatterplot with 'Price' and 'Number of bedrooms' from the downsized data frame\n",
    "sns.scatterplot(sample_bedroomsdf['Number of bedrooms'],sample_livingareadf['Price'])\n",
    "\n",
    "plt.ylabel('Price')\n",
    "plt.show()"
   ]
  },
  {
   "cell_type": "markdown",
   "id": "0e2346a6",
   "metadata": {},
   "source": [
    "**B. 'Living area'**"
   ]
  },
  {
   "cell_type": "code",
   "execution_count": 423,
   "id": "856a5a03",
   "metadata": {},
   "outputs": [
    {
     "data": {
      "text/plain": [
       "150.0    217\n",
       "160.0    198\n",
       "180.0    168\n",
       "200.0    167\n",
       "140.0    160\n",
       "        ... \n",
       "419.0      1\n",
       "399.0      1\n",
       "421.0      1\n",
       "473.0      1\n",
       "734.0      1\n",
       "Name: Living area, Length: 567, dtype: int64"
      ]
     },
     "execution_count": 423,
     "metadata": {},
     "output_type": "execute_result"
    }
   ],
   "source": [
    "# Let's get an idea of the distribution of values under 'Living area'\n",
    "# Pandas count distinct values in this column\n",
    "new_df['Living area'].value_counts()"
   ]
  },
  {
   "cell_type": "code",
   "execution_count": 424,
   "id": "1e61bdfc",
   "metadata": {},
   "outputs": [
    {
     "data": {
      "text/html": [
       "<div>\n",
       "<style scoped>\n",
       "    .dataframe tbody tr th:only-of-type {\n",
       "        vertical-align: middle;\n",
       "    }\n",
       "\n",
       "    .dataframe tbody tr th {\n",
       "        vertical-align: top;\n",
       "    }\n",
       "\n",
       "    .dataframe thead th {\n",
       "        text-align: right;\n",
       "    }\n",
       "</style>\n",
       "<table border=\"1\" class=\"dataframe\">\n",
       "  <thead>\n",
       "    <tr style=\"text-align: right;\">\n",
       "      <th></th>\n",
       "      <th>Price</th>\n",
       "      <th>Living area</th>\n",
       "    </tr>\n",
       "  </thead>\n",
       "  <tbody>\n",
       "    <tr>\n",
       "      <th>59</th>\n",
       "      <td>1550000.0</td>\n",
       "      <td>500.0</td>\n",
       "    </tr>\n",
       "    <tr>\n",
       "      <th>76</th>\n",
       "      <td>388000.0</td>\n",
       "      <td>NaN</td>\n",
       "    </tr>\n",
       "    <tr>\n",
       "      <th>7528</th>\n",
       "      <td>380000.0</td>\n",
       "      <td>185.0</td>\n",
       "    </tr>\n",
       "    <tr>\n",
       "      <th>9272</th>\n",
       "      <td>699000.0</td>\n",
       "      <td>334.0</td>\n",
       "    </tr>\n",
       "    <tr>\n",
       "      <th>4799</th>\n",
       "      <td>410000.0</td>\n",
       "      <td>NaN</td>\n",
       "    </tr>\n",
       "  </tbody>\n",
       "</table>\n",
       "</div>"
      ],
      "text/plain": [
       "          Price  Living area\n",
       "59    1550000.0        500.0\n",
       "76     388000.0          NaN\n",
       "7528   380000.0        185.0\n",
       "9272   699000.0        334.0\n",
       "4799   410000.0          NaN"
      ]
     },
     "execution_count": 424,
     "metadata": {},
     "output_type": "execute_result"
    }
   ],
   "source": [
    "# Before we provide a glimpse of the correlation between the numerical variables of 'Living area' and \n",
    "# 'Price', let's extract a sample and pass that onto a new data frame\n",
    "livingarea_df = new_df[['Price', 'Living area']]\n",
    "livingarea_df.head()"
   ]
  },
  {
   "cell_type": "code",
   "execution_count": 425,
   "id": "2949888e",
   "metadata": {},
   "outputs": [
    {
     "name": "stderr",
     "output_type": "stream",
     "text": [
      "/Users/anix/opt/anaconda3/lib/python3.9/site-packages/pandas/util/_decorators.py:311: SettingWithCopyWarning: \n",
      "A value is trying to be set on a copy of a slice from a DataFrame\n",
      "\n",
      "See the caveats in the documentation: https://pandas.pydata.org/pandas-docs/stable/user_guide/indexing.html#returning-a-view-versus-a-copy\n",
      "  return func(*args, **kwargs)\n"
     ]
    },
    {
     "data": {
      "text/html": [
       "<div>\n",
       "<style scoped>\n",
       "    .dataframe tbody tr th:only-of-type {\n",
       "        vertical-align: middle;\n",
       "    }\n",
       "\n",
       "    .dataframe tbody tr th {\n",
       "        vertical-align: top;\n",
       "    }\n",
       "\n",
       "    .dataframe thead th {\n",
       "        text-align: right;\n",
       "    }\n",
       "</style>\n",
       "<table border=\"1\" class=\"dataframe\">\n",
       "  <thead>\n",
       "    <tr style=\"text-align: right;\">\n",
       "      <th></th>\n",
       "      <th>Price</th>\n",
       "      <th>Living area</th>\n",
       "    </tr>\n",
       "  </thead>\n",
       "  <tbody>\n",
       "    <tr>\n",
       "      <th>7753</th>\n",
       "      <td>2500.0</td>\n",
       "      <td>1617.0</td>\n",
       "    </tr>\n",
       "    <tr>\n",
       "      <th>6621</th>\n",
       "      <td>2500.0</td>\n",
       "      <td>NaN</td>\n",
       "    </tr>\n",
       "    <tr>\n",
       "      <th>6468</th>\n",
       "      <td>2500.0</td>\n",
       "      <td>NaN</td>\n",
       "    </tr>\n",
       "    <tr>\n",
       "      <th>8635</th>\n",
       "      <td>10000.0</td>\n",
       "      <td>NaN</td>\n",
       "    </tr>\n",
       "    <tr>\n",
       "      <th>233</th>\n",
       "      <td>14900.0</td>\n",
       "      <td>32.0</td>\n",
       "    </tr>\n",
       "  </tbody>\n",
       "</table>\n",
       "</div>"
      ],
      "text/plain": [
       "        Price  Living area\n",
       "7753   2500.0       1617.0\n",
       "6621   2500.0          NaN\n",
       "6468   2500.0          NaN\n",
       "8635  10000.0          NaN\n",
       "233   14900.0         32.0"
      ]
     },
     "execution_count": 425,
     "metadata": {},
     "output_type": "execute_result"
    }
   ],
   "source": [
    "# Sorting values by 'Price' in this downsized data frame whose only other column is 'Living area'\n",
    "livingarea_df.sort_values(by=['Price'], inplace=True)\n",
    "livingarea_df.head()\n",
    "\n",
    "# The NaN values will be dealt with soon."
   ]
  },
  {
   "cell_type": "code",
   "execution_count": 426,
   "id": "11ec1198",
   "metadata": {},
   "outputs": [
    {
     "data": {
      "text/plain": [
       "(1000, 2)"
      ]
     },
     "execution_count": 426,
     "metadata": {},
     "output_type": "execute_result"
    }
   ],
   "source": [
    "# Selecting specific rows and columns from the data frame\n",
    "# A few more steps before we can visualise a sample of a data frame that has only 'Price' and 'Living area' as \n",
    "# fields\n",
    "sample_livingareadf = livingarea_df.iloc[0:1000]\n",
    "sample_livingareadf.shape"
   ]
  },
  {
   "cell_type": "code",
   "execution_count": 427,
   "id": "89e50704",
   "metadata": {},
   "outputs": [
    {
     "data": {
      "text/html": [
       "<div>\n",
       "<style scoped>\n",
       "    .dataframe tbody tr th:only-of-type {\n",
       "        vertical-align: middle;\n",
       "    }\n",
       "\n",
       "    .dataframe tbody tr th {\n",
       "        vertical-align: top;\n",
       "    }\n",
       "\n",
       "    .dataframe thead th {\n",
       "        text-align: right;\n",
       "    }\n",
       "</style>\n",
       "<table border=\"1\" class=\"dataframe\">\n",
       "  <thead>\n",
       "    <tr style=\"text-align: right;\">\n",
       "      <th></th>\n",
       "      <th>Price</th>\n",
       "      <th>Living area</th>\n",
       "    </tr>\n",
       "  </thead>\n",
       "  <tbody>\n",
       "    <tr>\n",
       "      <th>7753</th>\n",
       "      <td>2500.0</td>\n",
       "      <td>1617.0</td>\n",
       "    </tr>\n",
       "    <tr>\n",
       "      <th>6621</th>\n",
       "      <td>2500.0</td>\n",
       "      <td>NaN</td>\n",
       "    </tr>\n",
       "    <tr>\n",
       "      <th>6468</th>\n",
       "      <td>2500.0</td>\n",
       "      <td>NaN</td>\n",
       "    </tr>\n",
       "    <tr>\n",
       "      <th>8635</th>\n",
       "      <td>10000.0</td>\n",
       "      <td>NaN</td>\n",
       "    </tr>\n",
       "    <tr>\n",
       "      <th>233</th>\n",
       "      <td>14900.0</td>\n",
       "      <td>32.0</td>\n",
       "    </tr>\n",
       "  </tbody>\n",
       "</table>\n",
       "</div>"
      ],
      "text/plain": [
       "        Price  Living area\n",
       "7753   2500.0       1617.0\n",
       "6621   2500.0          NaN\n",
       "6468   2500.0          NaN\n",
       "8635  10000.0          NaN\n",
       "233   14900.0         32.0"
      ]
     },
     "execution_count": 427,
     "metadata": {},
     "output_type": "execute_result"
    }
   ],
   "source": [
    "# Getting a glimpse of the downsized data frame\n",
    "# The NaN values will be dealt with later\n",
    "sample_livingareadf.sort_values('Price')\n",
    "sample_livingareadf.head()"
   ]
  },
  {
   "cell_type": "code",
   "execution_count": 428,
   "id": "2984057c",
   "metadata": {},
   "outputs": [
    {
     "name": "stderr",
     "output_type": "stream",
     "text": [
      "/Users/anix/opt/anaconda3/lib/python3.9/site-packages/seaborn/_decorators.py:36: FutureWarning: Pass the following variables as keyword args: x, y. From version 0.12, the only valid positional argument will be `data`, and passing other arguments without an explicit keyword will result in an error or misinterpretation.\n",
      "  warnings.warn(\n"
     ]
    },
    {
     "data": {
      "image/png": "[encoded data removed]",
      "text/plain": [
       "<Figure size 540x252 with 1 Axes>"
      ]
     },
     "metadata": {},
     "output_type": "display_data"
    }
   ],
   "source": [
    "# Plotting scatterplot with 'Price' and 'Living area' from the downsized data frame\n",
    "sns.scatterplot(sample_livingareadf['Living area'],sample_livingareadf['Price'])\n",
    "\n",
    "plt.ylabel('Price')\n",
    "plt.show()"
   ]
  },
  {
   "cell_type": "markdown",
   "id": "57b23e87",
   "metadata": {},
   "source": [
    "**C. 'Surface area land'**"
   ]
  },
  {
   "cell_type": "code",
   "execution_count": 429,
   "id": "9dbaef2a",
   "metadata": {},
   "outputs": [
    {
     "data": {
      "text/plain": [
       "0.0        1319\n",
       "100.0        88\n",
       "300.0        61\n",
       "200.0        60\n",
       "250.0        58\n",
       "           ... \n",
       "799.0         1\n",
       "914.0         1\n",
       "867.0         1\n",
       "868.0         1\n",
       "45000.0       1\n",
       "Name: Surface area land, Length: 1974, dtype: int64"
      ]
     },
     "execution_count": 429,
     "metadata": {},
     "output_type": "execute_result"
    }
   ],
   "source": [
    "# Let's get an idea of the distribution of values under 'Surface area land'\n",
    "# Pandas count distinct values in this column\n",
    "new_df['Surface area land'].value_counts()"
   ]
  },
  {
   "cell_type": "code",
   "execution_count": 430,
   "id": "8b54f2a2",
   "metadata": {},
   "outputs": [
    {
     "data": {
      "text/html": [
       "<div>\n",
       "<style scoped>\n",
       "    .dataframe tbody tr th:only-of-type {\n",
       "        vertical-align: middle;\n",
       "    }\n",
       "\n",
       "    .dataframe tbody tr th {\n",
       "        vertical-align: top;\n",
       "    }\n",
       "\n",
       "    .dataframe thead th {\n",
       "        text-align: right;\n",
       "    }\n",
       "</style>\n",
       "<table border=\"1\" class=\"dataframe\">\n",
       "  <thead>\n",
       "    <tr style=\"text-align: right;\">\n",
       "      <th></th>\n",
       "      <th>Price</th>\n",
       "      <th>Surface area land</th>\n",
       "    </tr>\n",
       "  </thead>\n",
       "  <tbody>\n",
       "    <tr>\n",
       "      <th>59</th>\n",
       "      <td>1550000.0</td>\n",
       "      <td>0.0</td>\n",
       "    </tr>\n",
       "    <tr>\n",
       "      <th>76</th>\n",
       "      <td>388000.0</td>\n",
       "      <td>0.0</td>\n",
       "    </tr>\n",
       "    <tr>\n",
       "      <th>7528</th>\n",
       "      <td>380000.0</td>\n",
       "      <td>90.0</td>\n",
       "    </tr>\n",
       "    <tr>\n",
       "      <th>9272</th>\n",
       "      <td>699000.0</td>\n",
       "      <td>501.0</td>\n",
       "    </tr>\n",
       "    <tr>\n",
       "      <th>4799</th>\n",
       "      <td>410000.0</td>\n",
       "      <td>500.0</td>\n",
       "    </tr>\n",
       "  </tbody>\n",
       "</table>\n",
       "</div>"
      ],
      "text/plain": [
       "          Price  Surface area land\n",
       "59    1550000.0                0.0\n",
       "76     388000.0                0.0\n",
       "7528   380000.0               90.0\n",
       "9272   699000.0              501.0\n",
       "4799   410000.0              500.0"
      ]
     },
     "execution_count": 430,
     "metadata": {},
     "output_type": "execute_result"
    }
   ],
   "source": [
    "# Before we provide a glimpse of the correlation between the numerical variables of 'Surface area living' and \n",
    "# 'Price', let's extract a sample and pass that onto a new data frame\n",
    "surfacearea_df = new_df[['Price', 'Surface area land']]\n",
    "surfacearea_df.head()"
   ]
  },
  {
   "cell_type": "markdown",
   "id": "726f1dd0",
   "metadata": {},
   "source": [
    "**There is a need to drop all fields that have values of '0.' This will reduce the sample size of our data set.**"
   ]
  },
  {
   "cell_type": "code",
   "execution_count": 431,
   "id": "ccb0f2bf",
   "metadata": {},
   "outputs": [
    {
     "name": "stderr",
     "output_type": "stream",
     "text": [
      "/Users/anix/opt/anaconda3/lib/python3.9/site-packages/pandas/util/_decorators.py:311: SettingWithCopyWarning: \n",
      "A value is trying to be set on a copy of a slice from a DataFrame\n",
      "\n",
      "See the caveats in the documentation: https://pandas.pydata.org/pandas-docs/stable/user_guide/indexing.html#returning-a-view-versus-a-copy\n",
      "  return func(*args, **kwargs)\n"
     ]
    },
    {
     "data": {
      "text/html": [
       "<div>\n",
       "<style scoped>\n",
       "    .dataframe tbody tr th:only-of-type {\n",
       "        vertical-align: middle;\n",
       "    }\n",
       "\n",
       "    .dataframe tbody tr th {\n",
       "        vertical-align: top;\n",
       "    }\n",
       "\n",
       "    .dataframe thead th {\n",
       "        text-align: right;\n",
       "    }\n",
       "</style>\n",
       "<table border=\"1\" class=\"dataframe\">\n",
       "  <thead>\n",
       "    <tr style=\"text-align: right;\">\n",
       "      <th></th>\n",
       "      <th>Price</th>\n",
       "      <th>Surface area land</th>\n",
       "    </tr>\n",
       "  </thead>\n",
       "  <tbody>\n",
       "    <tr>\n",
       "      <th>7753</th>\n",
       "      <td>2500.0</td>\n",
       "      <td>3738.0</td>\n",
       "    </tr>\n",
       "    <tr>\n",
       "      <th>6621</th>\n",
       "      <td>2500.0</td>\n",
       "      <td>100.0</td>\n",
       "    </tr>\n",
       "    <tr>\n",
       "      <th>6468</th>\n",
       "      <td>2500.0</td>\n",
       "      <td>452.0</td>\n",
       "    </tr>\n",
       "    <tr>\n",
       "      <th>8635</th>\n",
       "      <td>10000.0</td>\n",
       "      <td>398.0</td>\n",
       "    </tr>\n",
       "    <tr>\n",
       "      <th>233</th>\n",
       "      <td>14900.0</td>\n",
       "      <td>200.0</td>\n",
       "    </tr>\n",
       "  </tbody>\n",
       "</table>\n",
       "</div>"
      ],
      "text/plain": [
       "        Price  Surface area land\n",
       "7753   2500.0             3738.0\n",
       "6621   2500.0              100.0\n",
       "6468   2500.0              452.0\n",
       "8635  10000.0              398.0\n",
       "233   14900.0              200.0"
      ]
     },
     "execution_count": 431,
     "metadata": {},
     "output_type": "execute_result"
    }
   ],
   "source": [
    "# Sorting values by 'Price' in this downsized data frame whose only other column is 'Surface area land'\n",
    "surfacearea_df.sort_values(by=['Price'], inplace=True)\n",
    "surfacearea_df.head()\n",
    "\n",
    "# The NaN values will be dealt with soon."
   ]
  },
  {
   "cell_type": "code",
   "execution_count": 432,
   "id": "e137aec3",
   "metadata": {},
   "outputs": [
    {
     "data": {
      "text/plain": [
       "(1000, 2)"
      ]
     },
     "execution_count": 432,
     "metadata": {},
     "output_type": "execute_result"
    }
   ],
   "source": [
    "# Selecting specific rows and columns from the data frame\n",
    "# A few more steps before we can visualise a sample of a data frame that has only 'Price' and 'Surface area land' as \n",
    "# fields\n",
    "sample_surfaceareadf = surfacearea_df.iloc[0:1000]\n",
    "sample_surfaceareadf.shape"
   ]
  },
  {
   "cell_type": "code",
   "execution_count": 433,
   "id": "2495571f",
   "metadata": {},
   "outputs": [
    {
     "data": {
      "text/html": [
       "<div>\n",
       "<style scoped>\n",
       "    .dataframe tbody tr th:only-of-type {\n",
       "        vertical-align: middle;\n",
       "    }\n",
       "\n",
       "    .dataframe tbody tr th {\n",
       "        vertical-align: top;\n",
       "    }\n",
       "\n",
       "    .dataframe thead th {\n",
       "        text-align: right;\n",
       "    }\n",
       "</style>\n",
       "<table border=\"1\" class=\"dataframe\">\n",
       "  <thead>\n",
       "    <tr style=\"text-align: right;\">\n",
       "      <th></th>\n",
       "      <th>Price</th>\n",
       "      <th>Surface area land</th>\n",
       "    </tr>\n",
       "  </thead>\n",
       "  <tbody>\n",
       "    <tr>\n",
       "      <th>7753</th>\n",
       "      <td>2500.0</td>\n",
       "      <td>3738.0</td>\n",
       "    </tr>\n",
       "    <tr>\n",
       "      <th>6621</th>\n",
       "      <td>2500.0</td>\n",
       "      <td>100.0</td>\n",
       "    </tr>\n",
       "    <tr>\n",
       "      <th>6468</th>\n",
       "      <td>2500.0</td>\n",
       "      <td>452.0</td>\n",
       "    </tr>\n",
       "    <tr>\n",
       "      <th>8635</th>\n",
       "      <td>10000.0</td>\n",
       "      <td>398.0</td>\n",
       "    </tr>\n",
       "    <tr>\n",
       "      <th>233</th>\n",
       "      <td>14900.0</td>\n",
       "      <td>200.0</td>\n",
       "    </tr>\n",
       "  </tbody>\n",
       "</table>\n",
       "</div>"
      ],
      "text/plain": [
       "        Price  Surface area land\n",
       "7753   2500.0             3738.0\n",
       "6621   2500.0              100.0\n",
       "6468   2500.0              452.0\n",
       "8635  10000.0              398.0\n",
       "233   14900.0              200.0"
      ]
     },
     "execution_count": 433,
     "metadata": {},
     "output_type": "execute_result"
    }
   ],
   "source": [
    "# Getting a glimpse of the downsized data frame\n",
    "# The NaN values will be dealt with later\n",
    "sample_surfaceareadf.sort_values('Price')\n",
    "sample_surfaceareadf.head()"
   ]
  },
  {
   "cell_type": "code",
   "execution_count": 434,
   "id": "b193e066",
   "metadata": {},
   "outputs": [
    {
     "name": "stderr",
     "output_type": "stream",
     "text": [
      "/Users/anix/opt/anaconda3/lib/python3.9/site-packages/seaborn/_decorators.py:36: FutureWarning: Pass the following variables as keyword args: x, y. From version 0.12, the only valid positional argument will be `data`, and passing other arguments without an explicit keyword will result in an error or misinterpretation.\n",
      "  warnings.warn(\n"
     ]
    },
    {
     "data": {
      "image/png": "[encoded data removed]",
      "text/plain": [
       "<Figure size 540x252 with 1 Axes>"
      ]
     },
     "metadata": {},
     "output_type": "display_data"
    }
   ],
   "source": [
    "# Plotting scatterplot with 'Price' and 'Surface area land' from the downsized data frame\n",
    "sns.scatterplot(sample_surfaceareadf['Surface area land'],sample_surfaceareadf['Price'])\n",
    "\n",
    "plt.ylabel('Price')\n",
    "plt.show()"
   ]
  },
  {
   "cell_type": "markdown",
   "id": "6f931a47",
   "metadata": {},
   "source": [
    "### **2. Data cleaning**"
   ]
  },
  {
   "cell_type": "markdown",
   "id": "2419e2d7",
   "metadata": {},
   "source": [
    "**For this project, we have private individual sellers in mind who are likely to sell single properties. \n",
    "Thus, the features of the historical data we have will be configured around this condition.** \n",
    "\n",
    "**1. We imagine private individuals that re-sell a typical family home. Hence, we shall not consider 'outliers' such\n",
    "as 'HOUSE_GROUPS' that imply more than one property, and have implications thus on other numerical variables\n",
    "such as 'Number of bedrooms', 'Living area', 'Surface area land' (ie the features), and most especially, 'Price' (the label).** \n",
    "\n",
    "**2. With this precise client demographic in mind, the numerical variables 'Number of bedrooms', 'Living area', 'Surface area land' (ie the features), and most especially, 'Price' (the label), would be binned into smaller groups of more similar data.** "
   ]
  },
  {
   "cell_type": "markdown",
   "id": "987eb3a7",
   "metadata": {},
   "source": [
    "### A. Dropping NaN values "
   ]
  },
  {
   "cell_type": "code",
   "execution_count": 435,
   "id": "48345717",
   "metadata": {},
   "outputs": [],
   "source": [
    "# Drop all rows with NaN values\n",
    "new_df=new_df.dropna()\n",
    "new_df=new_df.dropna(axis=0)\n",
    "\n",
    "# Reset index after drop\n",
    "new_df=new_df.dropna().reset_index(drop=True)"
   ]
  },
  {
   "cell_type": "code",
   "execution_count": 436,
   "id": "51ebfb76",
   "metadata": {},
   "outputs": [
    {
     "data": {
      "text/plain": [
       "(7739, 5)"
      ]
     },
     "execution_count": 436,
     "metadata": {},
     "output_type": "execute_result"
    }
   ],
   "source": [
    "# Determining, in particular, the number of observations left\n",
    "new_df.shape"
   ]
  },
  {
   "cell_type": "code",
   "execution_count": 437,
   "id": "c1e2fc34",
   "metadata": {},
   "outputs": [
    {
     "data": {
      "text/html": [
       "<div>\n",
       "<style scoped>\n",
       "    .dataframe tbody tr th:only-of-type {\n",
       "        vertical-align: middle;\n",
       "    }\n",
       "\n",
       "    .dataframe tbody tr th {\n",
       "        vertical-align: top;\n",
       "    }\n",
       "\n",
       "    .dataframe thead th {\n",
       "        text-align: right;\n",
       "    }\n",
       "</style>\n",
       "<table border=\"1\" class=\"dataframe\">\n",
       "  <thead>\n",
       "    <tr style=\"text-align: right;\">\n",
       "      <th></th>\n",
       "      <th>Property type</th>\n",
       "      <th>Price</th>\n",
       "      <th>Number of bedrooms</th>\n",
       "      <th>Living area</th>\n",
       "      <th>Surface area land</th>\n",
       "    </tr>\n",
       "  </thead>\n",
       "  <tbody>\n",
       "    <tr>\n",
       "      <th>0</th>\n",
       "      <td>HOUSE</td>\n",
       "      <td>1550000.0</td>\n",
       "      <td>0.0</td>\n",
       "      <td>500.0</td>\n",
       "      <td>0.0</td>\n",
       "    </tr>\n",
       "    <tr>\n",
       "      <th>1</th>\n",
       "      <td>HOUSE</td>\n",
       "      <td>380000.0</td>\n",
       "      <td>0.0</td>\n",
       "      <td>185.0</td>\n",
       "      <td>90.0</td>\n",
       "    </tr>\n",
       "    <tr>\n",
       "      <th>2</th>\n",
       "      <td>HOUSE</td>\n",
       "      <td>699000.0</td>\n",
       "      <td>0.0</td>\n",
       "      <td>334.0</td>\n",
       "      <td>501.0</td>\n",
       "    </tr>\n",
       "    <tr>\n",
       "      <th>3</th>\n",
       "      <td>HOUSE</td>\n",
       "      <td>595000.0</td>\n",
       "      <td>0.0</td>\n",
       "      <td>235.0</td>\n",
       "      <td>500.0</td>\n",
       "    </tr>\n",
       "    <tr>\n",
       "      <th>4</th>\n",
       "      <td>HOUSE</td>\n",
       "      <td>1150000.0</td>\n",
       "      <td>0.0</td>\n",
       "      <td>350.0</td>\n",
       "      <td>0.0</td>\n",
       "    </tr>\n",
       "  </tbody>\n",
       "</table>\n",
       "</div>"
      ],
      "text/plain": [
       "  Property type      Price  Number of bedrooms  Living area  Surface area land\n",
       "0         HOUSE  1550000.0                 0.0        500.0                0.0\n",
       "1         HOUSE   380000.0                 0.0        185.0               90.0\n",
       "2         HOUSE   699000.0                 0.0        334.0              501.0\n",
       "3         HOUSE   595000.0                 0.0        235.0              500.0\n",
       "4         HOUSE  1150000.0                 0.0        350.0                0.0"
      ]
     },
     "execution_count": 437,
     "metadata": {},
     "output_type": "execute_result"
    }
   ],
   "source": [
    "# Geting a look at the shape of the downsized data frame \n",
    "new_df.head()"
   ]
  },
  {
   "cell_type": "markdown",
   "id": "f2d4ebc5",
   "metadata": {},
   "source": [
    "Out of the original 10,082 observations, we have a good **7,739 observations left**"
   ]
  },
  {
   "cell_type": "markdown",
   "id": "3d310633",
   "metadata": {},
   "source": [
    "### B. Standardising mismatched values under 'Property type' to ‘HOUSE'"
   ]
  },
  {
   "cell_type": "code",
   "execution_count": 438,
   "id": "411d3824",
   "metadata": {},
   "outputs": [],
   "source": [
    "# Replacing the 'HOUSE_GROUP' values under 'Property type' with 'HOUSE'\n",
    "# Applying the condition\n",
    "new_df.loc[new_df['Property type'] == 'HOUSE_GROUP', 'HOUSE'] = 1"
   ]
  },
  {
   "cell_type": "code",
   "execution_count": 439,
   "id": "1ee19cf0",
   "metadata": {},
   "outputs": [
    {
     "data": {
      "text/html": [
       "<div>\n",
       "<style scoped>\n",
       "    .dataframe tbody tr th:only-of-type {\n",
       "        vertical-align: middle;\n",
       "    }\n",
       "\n",
       "    .dataframe tbody tr th {\n",
       "        vertical-align: top;\n",
       "    }\n",
       "\n",
       "    .dataframe thead th {\n",
       "        text-align: right;\n",
       "    }\n",
       "</style>\n",
       "<table border=\"1\" class=\"dataframe\">\n",
       "  <thead>\n",
       "    <tr style=\"text-align: right;\">\n",
       "      <th></th>\n",
       "      <th>Property type</th>\n",
       "      <th>Price</th>\n",
       "      <th>Number of bedrooms</th>\n",
       "      <th>Living area</th>\n",
       "      <th>Surface area land</th>\n",
       "      <th>HOUSE</th>\n",
       "    </tr>\n",
       "  </thead>\n",
       "  <tbody>\n",
       "    <tr>\n",
       "      <th>0</th>\n",
       "      <td>HOUSE</td>\n",
       "      <td>1550000.0</td>\n",
       "      <td>0.0</td>\n",
       "      <td>500.0</td>\n",
       "      <td>0.0</td>\n",
       "      <td>NaN</td>\n",
       "    </tr>\n",
       "    <tr>\n",
       "      <th>1</th>\n",
       "      <td>HOUSE</td>\n",
       "      <td>380000.0</td>\n",
       "      <td>0.0</td>\n",
       "      <td>185.0</td>\n",
       "      <td>90.0</td>\n",
       "      <td>NaN</td>\n",
       "    </tr>\n",
       "    <tr>\n",
       "      <th>2</th>\n",
       "      <td>HOUSE</td>\n",
       "      <td>699000.0</td>\n",
       "      <td>0.0</td>\n",
       "      <td>334.0</td>\n",
       "      <td>501.0</td>\n",
       "      <td>NaN</td>\n",
       "    </tr>\n",
       "    <tr>\n",
       "      <th>3</th>\n",
       "      <td>HOUSE</td>\n",
       "      <td>595000.0</td>\n",
       "      <td>0.0</td>\n",
       "      <td>235.0</td>\n",
       "      <td>500.0</td>\n",
       "      <td>NaN</td>\n",
       "    </tr>\n",
       "    <tr>\n",
       "      <th>4</th>\n",
       "      <td>HOUSE</td>\n",
       "      <td>1150000.0</td>\n",
       "      <td>0.0</td>\n",
       "      <td>350.0</td>\n",
       "      <td>0.0</td>\n",
       "      <td>NaN</td>\n",
       "    </tr>\n",
       "    <tr>\n",
       "      <th>...</th>\n",
       "      <td>...</td>\n",
       "      <td>...</td>\n",
       "      <td>...</td>\n",
       "      <td>...</td>\n",
       "      <td>...</td>\n",
       "      <td>...</td>\n",
       "    </tr>\n",
       "    <tr>\n",
       "      <th>7734</th>\n",
       "      <td>HOUSE</td>\n",
       "      <td>1790000.0</td>\n",
       "      <td>23.0</td>\n",
       "      <td>734.0</td>\n",
       "      <td>350.0</td>\n",
       "      <td>NaN</td>\n",
       "    </tr>\n",
       "    <tr>\n",
       "      <th>7735</th>\n",
       "      <td>HOUSE</td>\n",
       "      <td>1350000.0</td>\n",
       "      <td>23.0</td>\n",
       "      <td>750.0</td>\n",
       "      <td>500.0</td>\n",
       "      <td>NaN</td>\n",
       "    </tr>\n",
       "    <tr>\n",
       "      <th>7736</th>\n",
       "      <td>HOUSE</td>\n",
       "      <td>1200000.0</td>\n",
       "      <td>24.0</td>\n",
       "      <td>1000.0</td>\n",
       "      <td>205.0</td>\n",
       "      <td>NaN</td>\n",
       "    </tr>\n",
       "    <tr>\n",
       "      <th>7737</th>\n",
       "      <td>HOUSE</td>\n",
       "      <td>2950000.0</td>\n",
       "      <td>30.0</td>\n",
       "      <td>1200.0</td>\n",
       "      <td>45000.0</td>\n",
       "      <td>NaN</td>\n",
       "    </tr>\n",
       "    <tr>\n",
       "      <th>7738</th>\n",
       "      <td>HOUSE</td>\n",
       "      <td>185000.0</td>\n",
       "      <td>333.0</td>\n",
       "      <td>155.0</td>\n",
       "      <td>620.0</td>\n",
       "      <td>NaN</td>\n",
       "    </tr>\n",
       "  </tbody>\n",
       "</table>\n",
       "<p>7739 rows × 6 columns</p>\n",
       "</div>"
      ],
      "text/plain": [
       "     Property type      Price  Number of bedrooms  Living area  \\\n",
       "0            HOUSE  1550000.0                 0.0        500.0   \n",
       "1            HOUSE   380000.0                 0.0        185.0   \n",
       "2            HOUSE   699000.0                 0.0        334.0   \n",
       "3            HOUSE   595000.0                 0.0        235.0   \n",
       "4            HOUSE  1150000.0                 0.0        350.0   \n",
       "...            ...        ...                 ...          ...   \n",
       "7734         HOUSE  1790000.0                23.0        734.0   \n",
       "7735         HOUSE  1350000.0                23.0        750.0   \n",
       "7736         HOUSE  1200000.0                24.0       1000.0   \n",
       "7737         HOUSE  2950000.0                30.0       1200.0   \n",
       "7738         HOUSE   185000.0               333.0        155.0   \n",
       "\n",
       "      Surface area land  HOUSE  \n",
       "0                   0.0    NaN  \n",
       "1                  90.0    NaN  \n",
       "2                 501.0    NaN  \n",
       "3                 500.0    NaN  \n",
       "4                   0.0    NaN  \n",
       "...                 ...    ...  \n",
       "7734              350.0    NaN  \n",
       "7735              500.0    NaN  \n",
       "7736              205.0    NaN  \n",
       "7737            45000.0    NaN  \n",
       "7738              620.0    NaN  \n",
       "\n",
       "[7739 rows x 6 columns]"
      ]
     },
     "execution_count": 439,
     "metadata": {},
     "output_type": "execute_result"
    }
   ],
   "source": [
    "# Getting a good glimpse of the data frame to see whether the values under 'Property type' have changed from\n",
    "# 'HOUSE_GROUP' to 'HOUSE'\n",
    "new_df"
   ]
  },
  {
   "cell_type": "markdown",
   "id": "be5ac15b",
   "metadata": {},
   "source": [
    "### C. Dropping undesired in 'Number of bedrooms’"
   ]
  },
  {
   "cell_type": "code",
   "execution_count": 440,
   "id": "f93188dc",
   "metadata": {},
   "outputs": [
    {
     "data": {
      "text/plain": [
       "3.0      3252\n",
       "4.0      1806\n",
       "2.0      1175\n",
       "5.0       718\n",
       "6.0       282\n",
       "7.0       117\n",
       "1.0       114\n",
       "0.0       104\n",
       "8.0        65\n",
       "9.0        41\n",
       "10.0       22\n",
       "11.0       10\n",
       "13.0        6\n",
       "12.0        6\n",
       "16.0        4\n",
       "20.0        4\n",
       "15.0        3\n",
       "23.0        3\n",
       "14.0        1\n",
       "17.0        1\n",
       "18.0        1\n",
       "21.0        1\n",
       "24.0        1\n",
       "30.0        1\n",
       "333.0       1\n",
       "Name: Number of bedrooms, dtype: int64"
      ]
     },
     "execution_count": 440,
     "metadata": {},
     "output_type": "execute_result"
    }
   ],
   "source": [
    "# Pandas count distinct values in column 'Number of bedrooms'\n",
    "new_df['Number of bedrooms'].value_counts()"
   ]
  },
  {
   "cell_type": "code",
   "execution_count": 441,
   "id": "a54d735d",
   "metadata": {},
   "outputs": [],
   "source": [
    "# We shall drop outliers i.e. the values under 'Number of bedrooms' that are 0 or greater than 5\n",
    "new_df = new_df[~new_df['Number of bedrooms'].isin([0, 6, 7, 8, 9, 10, 11, 12, 13, 14, 15, 16, 17, 18, 19, 20, 21, 23, 24, 30, 333])] "
   ]
  },
  {
   "cell_type": "code",
   "execution_count": 442,
   "id": "e4046195",
   "metadata": {},
   "outputs": [
    {
     "data": {
      "text/plain": [
       "(7065, 6)"
      ]
     },
     "execution_count": 442,
     "metadata": {},
     "output_type": "execute_result"
    }
   ],
   "source": [
    "# Getting a glimpse of the data frame after the undesired values under 'Number of bedrooms' were dropped\n",
    "new_df.shape"
   ]
  },
  {
   "cell_type": "code",
   "execution_count": 443,
   "id": "2210085f",
   "metadata": {},
   "outputs": [
    {
     "data": {
      "text/plain": [
       "3.0    3252\n",
       "4.0    1806\n",
       "2.0    1175\n",
       "5.0     718\n",
       "1.0     114\n",
       "Name: Number of bedrooms, dtype: int64"
      ]
     },
     "execution_count": 443,
     "metadata": {},
     "output_type": "execute_result"
    }
   ],
   "source": [
    "# Checking if the desired range of 1-5 number of bedrooms remain in the data frame\n",
    "new_df['Number of bedrooms'].value_counts()"
   ]
  },
  {
   "cell_type": "markdown",
   "id": "8ecb08a4",
   "metadata": {},
   "source": [
    "**We are down to 7065 observations now"
   ]
  },
  {
   "cell_type": "markdown",
   "id": "7bce2e67",
   "metadata": {},
   "source": [
    "### D. Dropping undesired values in 'Living area'"
   ]
  },
  {
   "cell_type": "code",
   "execution_count": 444,
   "id": "6d65bf85",
   "metadata": {},
   "outputs": [
    {
     "data": {
      "text/plain": [
       "150.0     214\n",
       "160.0     196\n",
       "180.0     160\n",
       "140.0     158\n",
       "200.0     157\n",
       "         ... \n",
       "558.0       1\n",
       "467.0       1\n",
       "1494.0      1\n",
       "432.0       1\n",
       "321.0       1\n",
       "Name: Living area, Length: 478, dtype: int64"
      ]
     },
     "execution_count": 444,
     "metadata": {},
     "output_type": "execute_result"
    }
   ],
   "source": [
    "# Pandas count distinct values in column 'Living area'\n",
    "new_df['Living area'].value_counts()"
   ]
  },
  {
   "cell_type": "code",
   "execution_count": 445,
   "id": "dbab5b3b",
   "metadata": {},
   "outputs": [
    {
     "name": "stdout",
     "output_type": "stream",
     "text": [
      "7.0\n",
      "\n",
      "2700.0\n"
     ]
    }
   ],
   "source": [
    "# To remind us of the min and max values under 'Living area'\n",
    "print(new_df['Living area'].min())\n",
    "print()\n",
    "print(new_df['Living area'].max())"
   ]
  },
  {
   "cell_type": "code",
   "execution_count": 446,
   "id": "37208d0d",
   "metadata": {},
   "outputs": [],
   "source": [
    "# For this project, we shall isolate the observations with 'Living area' measurements that are between 70 and 300 sqm\n",
    "# This is gauging a measurement of living space area for homes in the Belgian market in general\n",
    "new_df = new_df[(new_df['Living area']> 69) & (new_df['Living area']< 301)] "
   ]
  },
  {
   "cell_type": "code",
   "execution_count": 447,
   "id": "f6dae2f3",
   "metadata": {},
   "outputs": [
    {
     "data": {
      "text/plain": [
       "(6336, 6)"
      ]
     },
     "execution_count": 447,
     "metadata": {},
     "output_type": "execute_result"
    }
   ],
   "source": [
    "# Getting a glimpse of the data frame after the undesired values under 'Living area' were dropped\n",
    "new_df.shape"
   ]
  },
  {
   "cell_type": "code",
   "execution_count": 448,
   "id": "c05b6965",
   "metadata": {},
   "outputs": [
    {
     "data": {
      "text/plain": [
       "150.0    214\n",
       "160.0    196\n",
       "180.0    160\n",
       "140.0    158\n",
       "200.0    157\n",
       "        ... \n",
       "288.0      3\n",
       "296.0      2\n",
       "292.0      2\n",
       "72.0       2\n",
       "299.0      2\n",
       "Name: Living area, Length: 231, dtype: int64"
      ]
     },
     "execution_count": 448,
     "metadata": {},
     "output_type": "execute_result"
    }
   ],
   "source": [
    "# Checking if the desired range reflects in the data frame\n",
    "new_df['Living area'].value_counts()"
   ]
  },
  {
   "cell_type": "markdown",
   "id": "98535ed3",
   "metadata": {},
   "source": [
    "**We are down to 6,336 observations now"
   ]
  },
  {
   "cell_type": "markdown",
   "id": "0c68f3a1",
   "metadata": {},
   "source": [
    "### E. Dropping undesired values in 'Surfce area land'"
   ]
  },
  {
   "cell_type": "code",
   "execution_count": 449,
   "id": "cc5f5d70",
   "metadata": {},
   "outputs": [
    {
     "data": {
      "text/plain": [
       "0.0       597\n",
       "100.0      63\n",
       "250.0      44\n",
       "150.0      42\n",
       "300.0      41\n",
       "         ... \n",
       "1069.0      1\n",
       "634.0       1\n",
       "1073.0      1\n",
       "1093.0      1\n",
       "936.0       1\n",
       "Name: Surface area land, Length: 1492, dtype: int64"
      ]
     },
     "execution_count": 449,
     "metadata": {},
     "output_type": "execute_result"
    }
   ],
   "source": [
    "# Pandas count distinct values in column 'Surface area land'\n",
    "new_df['Surface area land'].value_counts()"
   ]
  },
  {
   "cell_type": "code",
   "execution_count": 450,
   "id": "cf366fa6",
   "metadata": {},
   "outputs": [
    {
     "name": "stdout",
     "output_type": "stream",
     "text": [
      "0.0\n",
      "\n",
      "110000.0\n"
     ]
    }
   ],
   "source": [
    "# To remind us of the min and max values under 'Surface area land'\n",
    "print(new_df['Surface area land'].min())\n",
    "print()\n",
    "print(new_df['Surface area land'].max())"
   ]
  },
  {
   "cell_type": "code",
   "execution_count": 454,
   "id": "bdf8a973",
   "metadata": {},
   "outputs": [],
   "source": [
    "# For this project, we shall isolate the observations with 'Surface area land' measurements that are between \n",
    "# 50 and 1000 sqm.\n",
    "# This is gauging a measurement of Land property area for homes in the Belgian market in general\n",
    "new_df = new_df[(new_df['Surface area land']> 49) & (new_df['Surface area land']< 1001)] "
   ]
  },
  {
   "cell_type": "code",
   "execution_count": 455,
   "id": "b024ac56",
   "metadata": {},
   "outputs": [
    {
     "data": {
      "text/plain": [
       "(4771, 6)"
      ]
     },
     "execution_count": 455,
     "metadata": {},
     "output_type": "execute_result"
    }
   ],
   "source": [
    "# Getting a glimpse of the data frame after the undesired values under 'Surface area land' were dropped\n",
    "new_df.shape"
   ]
  },
  {
   "cell_type": "code",
   "execution_count": 456,
   "id": "71196f6a",
   "metadata": {},
   "outputs": [
    {
     "data": {
      "text/plain": [
       "100.0    63\n",
       "250.0    44\n",
       "150.0    42\n",
       "300.0    41\n",
       "180.0    39\n",
       "         ..\n",
       "739.0     1\n",
       "988.0     1\n",
       "985.0     1\n",
       "741.0     1\n",
       "936.0     1\n",
       "Name: Surface area land, Length: 868, dtype: int64"
      ]
     },
     "execution_count": 456,
     "metadata": {},
     "output_type": "execute_result"
    }
   ],
   "source": [
    "# Checking if the desired range reflects in the data frame\n",
    "new_df['Surface area land'].value_counts()"
   ]
  },
  {
   "cell_type": "markdown",
   "id": "e2a770e5",
   "metadata": {},
   "source": [
    "**We are down to 4,771 observations now"
   ]
  },
  {
   "cell_type": "markdown",
   "id": "8e28015c",
   "metadata": {},
   "source": [
    "### F. Dropping undesired values in ‘Price’"
   ]
  },
  {
   "cell_type": "code",
   "execution_count": 457,
   "id": "87e1807d",
   "metadata": {},
   "outputs": [
    {
     "data": {
      "text/plain": [
       "299000.0    86\n",
       "249000.0    85\n",
       "325000.0    83\n",
       "349000.0    81\n",
       "295000.0    79\n",
       "            ..\n",
       "550153.0     1\n",
       "230500.0     1\n",
       "568765.0     1\n",
       "598328.0     1\n",
       "835000.0     1\n",
       "Name: Price, Length: 753, dtype: int64"
      ]
     },
     "execution_count": 457,
     "metadata": {},
     "output_type": "execute_result"
    }
   ],
   "source": [
    "# Pandas count distinct values in column 'Price'\n",
    "new_df['Price'].value_counts()"
   ]
  },
  {
   "cell_type": "code",
   "execution_count": 458,
   "id": "3ba7b6ed",
   "metadata": {},
   "outputs": [
    {
     "name": "stdout",
     "output_type": "stream",
     "text": [
      "15000.0\n",
      "\n",
      "4290000.0\n"
     ]
    }
   ],
   "source": [
    "# To remind us of the min and max values under 'Price'\n",
    "print(new_df['Price'].min())\n",
    "print()\n",
    "print(new_df['Price'].max())"
   ]
  },
  {
   "cell_type": "code",
   "execution_count": 459,
   "id": "8b07d732",
   "metadata": {},
   "outputs": [],
   "source": [
    "# For this project, we shall isolate the observations with 'Price' measurements that are between \n",
    "# 100,000 and 900,000 euros\n",
    "# This is gauging sale price of homes in the Belgian market in general\n",
    "new_df = new_df[(new_df['Price']> 99999) & (new_df['Price']< 899000)] "
   ]
  },
  {
   "cell_type": "code",
   "execution_count": 460,
   "id": "4d1afc7c",
   "metadata": {},
   "outputs": [
    {
     "data": {
      "text/plain": [
       "(4637, 6)"
      ]
     },
     "execution_count": 460,
     "metadata": {},
     "output_type": "execute_result"
    }
   ],
   "source": [
    "# Getting a glimpse of the data frame after the undesired values under 'Price' were dropped\n",
    "new_df.shape"
   ]
  },
  {
   "cell_type": "code",
   "execution_count": 461,
   "id": "3c891d44",
   "metadata": {},
   "outputs": [
    {
     "data": {
      "text/plain": [
       "299000.0    86\n",
       "249000.0    85\n",
       "325000.0    83\n",
       "349000.0    81\n",
       "295000.0    79\n",
       "            ..\n",
       "434000.0     1\n",
       "414000.0     1\n",
       "454000.0     1\n",
       "458000.0     1\n",
       "835000.0     1\n",
       "Name: Price, Length: 700, dtype: int64"
      ]
     },
     "execution_count": 461,
     "metadata": {},
     "output_type": "execute_result"
    }
   ],
   "source": [
    "# Checking if the desired range reflects in the data frame\n",
    "new_df['Price'].value_counts()"
   ]
  },
  {
   "cell_type": "markdown",
   "id": "baf457fc",
   "metadata": {},
   "source": [
    "**FINALLY, WE ARE DOWN TO 4,637 OBSERVATIONS**"
   ]
  },
  {
   "cell_type": "markdown",
   "id": "13af6f37",
   "metadata": {},
   "source": [
    "### **3. Finale: The baseline data frame saved as a new csv file**"
   ]
  },
  {
   "cell_type": "code",
   "execution_count": 462,
   "id": "bf31518d",
   "metadata": {},
   "outputs": [
    {
     "data": {
      "text/html": [
       "<div>\n",
       "<style scoped>\n",
       "    .dataframe tbody tr th:only-of-type {\n",
       "        vertical-align: middle;\n",
       "    }\n",
       "\n",
       "    .dataframe tbody tr th {\n",
       "        vertical-align: top;\n",
       "    }\n",
       "\n",
       "    .dataframe thead th {\n",
       "        text-align: right;\n",
       "    }\n",
       "</style>\n",
       "<table border=\"1\" class=\"dataframe\">\n",
       "  <thead>\n",
       "    <tr style=\"text-align: right;\">\n",
       "      <th></th>\n",
       "      <th>Property type</th>\n",
       "      <th>Price</th>\n",
       "      <th>Number of bedrooms</th>\n",
       "      <th>Living area</th>\n",
       "      <th>Surface area land</th>\n",
       "      <th>HOUSE</th>\n",
       "    </tr>\n",
       "  </thead>\n",
       "  <tbody>\n",
       "    <tr>\n",
       "      <th>105</th>\n",
       "      <td>HOUSE</td>\n",
       "      <td>295000.0</td>\n",
       "      <td>1.0</td>\n",
       "      <td>70.0</td>\n",
       "      <td>417.0</td>\n",
       "      <td>NaN</td>\n",
       "    </tr>\n",
       "    <tr>\n",
       "      <th>106</th>\n",
       "      <td>HOUSE</td>\n",
       "      <td>235000.0</td>\n",
       "      <td>1.0</td>\n",
       "      <td>70.0</td>\n",
       "      <td>104.0</td>\n",
       "      <td>NaN</td>\n",
       "    </tr>\n",
       "    <tr>\n",
       "      <th>107</th>\n",
       "      <td>HOUSE</td>\n",
       "      <td>275000.0</td>\n",
       "      <td>1.0</td>\n",
       "      <td>90.0</td>\n",
       "      <td>415.0</td>\n",
       "      <td>NaN</td>\n",
       "    </tr>\n",
       "    <tr>\n",
       "      <th>108</th>\n",
       "      <td>HOUSE</td>\n",
       "      <td>295000.0</td>\n",
       "      <td>1.0</td>\n",
       "      <td>70.0</td>\n",
       "      <td>417.0</td>\n",
       "      <td>NaN</td>\n",
       "    </tr>\n",
       "    <tr>\n",
       "      <th>111</th>\n",
       "      <td>HOUSE</td>\n",
       "      <td>239000.0</td>\n",
       "      <td>1.0</td>\n",
       "      <td>100.0</td>\n",
       "      <td>355.0</td>\n",
       "      <td>NaN</td>\n",
       "    </tr>\n",
       "  </tbody>\n",
       "</table>\n",
       "</div>"
      ],
      "text/plain": [
       "    Property type     Price  Number of bedrooms  Living area  \\\n",
       "105         HOUSE  295000.0                 1.0         70.0   \n",
       "106         HOUSE  235000.0                 1.0         70.0   \n",
       "107         HOUSE  275000.0                 1.0         90.0   \n",
       "108         HOUSE  295000.0                 1.0         70.0   \n",
       "111         HOUSE  239000.0                 1.0        100.0   \n",
       "\n",
       "     Surface area land  HOUSE  \n",
       "105              417.0    NaN  \n",
       "106              104.0    NaN  \n",
       "107              415.0    NaN  \n",
       "108              417.0    NaN  \n",
       "111              355.0    NaN  "
      ]
     },
     "execution_count": 462,
     "metadata": {},
     "output_type": "execute_result"
    }
   ],
   "source": [
    "# Getting a glimpse of the baseline data frame that will be the basis for building and evaluating\n",
    "# a linear regression machine learning model in II. MODELLING PIPELINE.\n",
    "new_df.head()"
   ]
  },
  {
   "cell_type": "code",
   "execution_count": 463,
   "id": "08ab6ed8",
   "metadata": {},
   "outputs": [
    {
     "data": {
      "text/html": [
       "<div>\n",
       "<style scoped>\n",
       "    .dataframe tbody tr th:only-of-type {\n",
       "        vertical-align: middle;\n",
       "    }\n",
       "\n",
       "    .dataframe tbody tr th {\n",
       "        vertical-align: top;\n",
       "    }\n",
       "\n",
       "    .dataframe thead th {\n",
       "        text-align: right;\n",
       "    }\n",
       "</style>\n",
       "<table border=\"1\" class=\"dataframe\">\n",
       "  <thead>\n",
       "    <tr style=\"text-align: right;\">\n",
       "      <th></th>\n",
       "      <th>Property type</th>\n",
       "      <th>Price</th>\n",
       "      <th>Number of bedrooms</th>\n",
       "      <th>Living area</th>\n",
       "      <th>Surface area land</th>\n",
       "    </tr>\n",
       "  </thead>\n",
       "  <tbody>\n",
       "    <tr>\n",
       "      <th>105</th>\n",
       "      <td>HOUSE</td>\n",
       "      <td>295000.0</td>\n",
       "      <td>1.0</td>\n",
       "      <td>70.0</td>\n",
       "      <td>417.0</td>\n",
       "    </tr>\n",
       "    <tr>\n",
       "      <th>106</th>\n",
       "      <td>HOUSE</td>\n",
       "      <td>235000.0</td>\n",
       "      <td>1.0</td>\n",
       "      <td>70.0</td>\n",
       "      <td>104.0</td>\n",
       "    </tr>\n",
       "    <tr>\n",
       "      <th>107</th>\n",
       "      <td>HOUSE</td>\n",
       "      <td>275000.0</td>\n",
       "      <td>1.0</td>\n",
       "      <td>90.0</td>\n",
       "      <td>415.0</td>\n",
       "    </tr>\n",
       "    <tr>\n",
       "      <th>108</th>\n",
       "      <td>HOUSE</td>\n",
       "      <td>295000.0</td>\n",
       "      <td>1.0</td>\n",
       "      <td>70.0</td>\n",
       "      <td>417.0</td>\n",
       "    </tr>\n",
       "    <tr>\n",
       "      <th>111</th>\n",
       "      <td>HOUSE</td>\n",
       "      <td>239000.0</td>\n",
       "      <td>1.0</td>\n",
       "      <td>100.0</td>\n",
       "      <td>355.0</td>\n",
       "    </tr>\n",
       "  </tbody>\n",
       "</table>\n",
       "</div>"
      ],
      "text/plain": [
       "    Property type     Price  Number of bedrooms  Living area  \\\n",
       "105         HOUSE  295000.0                 1.0         70.0   \n",
       "106         HOUSE  235000.0                 1.0         70.0   \n",
       "107         HOUSE  275000.0                 1.0         90.0   \n",
       "108         HOUSE  295000.0                 1.0         70.0   \n",
       "111         HOUSE  239000.0                 1.0        100.0   \n",
       "\n",
       "     Surface area land  \n",
       "105              417.0  \n",
       "106              104.0  \n",
       "107              415.0  \n",
       "108              417.0  \n",
       "111              355.0  "
      ]
     },
     "execution_count": 463,
     "metadata": {},
     "output_type": "execute_result"
    }
   ],
   "source": [
    "# Drop the last (unnecessary) column of the dataframe\n",
    "new_df = new_df.iloc[: , :-1]\n",
    "new_df.head()"
   ]
  },
  {
   "cell_type": "code",
   "execution_count": 464,
   "id": "2092fd86",
   "metadata": {},
   "outputs": [],
   "source": [
    "new_df.to_csv('baseline.csv', encoding='utf-8')"
   ]
  }
 ],
 "metadata": {
  "kernelspec": {
   "display_name": "Python 3 (ipykernel)",
   "language": "python",
   "name": "python3"
  },
  "language_info": {
   "codemirror_mode": {
    "name": "ipython",
    "version": 3
   },
   "file_extension": ".py",
   "mimetype": "text/x-python",
   "name": "python",
   "nbconvert_exporter": "python",
   "pygments_lexer": "ipython3",
   "version": "3.9.7"
  }
 },
 "nbformat": 4,
 "nbformat_minor": 5
}
