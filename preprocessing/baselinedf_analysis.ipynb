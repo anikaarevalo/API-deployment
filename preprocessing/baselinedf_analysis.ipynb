{
 "cells": [
  {
   "cell_type": "markdown",
   "id": "392344a9",
   "metadata": {},
   "source": [
    "## **I. DATA PREPARATION PIPELINE**"
   ]
  },
  {
   "cell_type": "markdown",
   "id": "3d5b264e",
   "metadata": {},
   "source": [
    "## Data tools and file handling"
   ]
  },
  {
   "cell_type": "code",
   "execution_count": 1,
   "id": "03aa9da7",
   "metadata": {},
   "outputs": [],
   "source": [
    "# Importing python data analysis tools and a library to access & load relevant data set\n",
    "# Choosing plot style as well \n",
    "from sklearn import datasets\n",
    "import pandas as pd\n",
    "import numpy as np\n",
    "import seaborn as sns\n",
    "sns.set(color_codes=True)\n",
    "\n",
    "import matplotlib.pyplot as plt\n",
    "plt.style.use('ggplot')\n",
    "\n",
    "%matplotlib inline"
   ]
  },
  {
   "cell_type": "code",
   "execution_count": 58,
   "id": "6ed42c0b",
   "metadata": {},
   "outputs": [
    {
     "name": "stdout",
     "output_type": "stream",
     "text": [
      "['Property type' 'Price' 'Number of bedrooms' 'Living area'\n",
      " 'Surface area land']\n"
     ]
    }
   ],
   "source": [
    "# Accessing the cleaned data set (originally web scraped from immoweb.be) of house listings from a csv file \n",
    "# and passing it into a pandas dataframe\n",
    "# Printing all the field names of all the columns in the data.\n",
    "with open('/Users/anix/GNT-Arai-3/content/00.projects/2ndindproj/preprocessing/baseline.csv', 'r') as csvfile:\n",
    "    df = pd.read_csv(csvfile, index_col=[0])\n",
    "print(df.columns.values) "
   ]
  },
  {
   "cell_type": "code",
   "execution_count": 34,
   "id": "1fb4ef30",
   "metadata": {},
   "outputs": [
    {
     "data": {
      "text/html": [
       "<div>\n",
       "<style scoped>\n",
       "    .dataframe tbody tr th:only-of-type {\n",
       "        vertical-align: middle;\n",
       "    }\n",
       "\n",
       "    .dataframe tbody tr th {\n",
       "        vertical-align: top;\n",
       "    }\n",
       "\n",
       "    .dataframe thead th {\n",
       "        text-align: right;\n",
       "    }\n",
       "</style>\n",
       "<table border=\"1\" class=\"dataframe\">\n",
       "  <thead>\n",
       "    <tr style=\"text-align: right;\">\n",
       "      <th></th>\n",
       "      <th>Property type</th>\n",
       "      <th>Price</th>\n",
       "      <th>Number of bedrooms</th>\n",
       "      <th>Living area</th>\n",
       "      <th>Surface area land</th>\n",
       "    </tr>\n",
       "  </thead>\n",
       "  <tbody>\n",
       "    <tr>\n",
       "      <th>105</th>\n",
       "      <td>HOUSE</td>\n",
       "      <td>295000.0</td>\n",
       "      <td>1.0</td>\n",
       "      <td>70.0</td>\n",
       "      <td>417.0</td>\n",
       "    </tr>\n",
       "    <tr>\n",
       "      <th>106</th>\n",
       "      <td>HOUSE</td>\n",
       "      <td>235000.0</td>\n",
       "      <td>1.0</td>\n",
       "      <td>70.0</td>\n",
       "      <td>104.0</td>\n",
       "    </tr>\n",
       "    <tr>\n",
       "      <th>107</th>\n",
       "      <td>HOUSE</td>\n",
       "      <td>275000.0</td>\n",
       "      <td>1.0</td>\n",
       "      <td>90.0</td>\n",
       "      <td>415.0</td>\n",
       "    </tr>\n",
       "    <tr>\n",
       "      <th>108</th>\n",
       "      <td>HOUSE</td>\n",
       "      <td>295000.0</td>\n",
       "      <td>1.0</td>\n",
       "      <td>70.0</td>\n",
       "      <td>417.0</td>\n",
       "    </tr>\n",
       "    <tr>\n",
       "      <th>111</th>\n",
       "      <td>HOUSE</td>\n",
       "      <td>239000.0</td>\n",
       "      <td>1.0</td>\n",
       "      <td>100.0</td>\n",
       "      <td>355.0</td>\n",
       "    </tr>\n",
       "  </tbody>\n",
       "</table>\n",
       "</div>"
      ],
      "text/plain": [
       "    Property type     Price  Number of bedrooms  Living area  \\\n",
       "105         HOUSE  295000.0                 1.0         70.0   \n",
       "106         HOUSE  235000.0                 1.0         70.0   \n",
       "107         HOUSE  275000.0                 1.0         90.0   \n",
       "108         HOUSE  295000.0                 1.0         70.0   \n",
       "111         HOUSE  239000.0                 1.0        100.0   \n",
       "\n",
       "     Surface area land  \n",
       "105              417.0  \n",
       "106              104.0  \n",
       "107              415.0  \n",
       "108              417.0  \n",
       "111              355.0  "
      ]
     },
     "execution_count": 34,
     "metadata": {},
     "output_type": "execute_result"
    }
   ],
   "source": [
    "# Getting a glimpse of the raw data set through a pandas data frame\n",
    "df.head()"
   ]
  },
  {
   "cell_type": "code",
   "execution_count": 35,
   "id": "31ffac3e",
   "metadata": {},
   "outputs": [
    {
     "data": {
      "text/plain": [
       "(4637, 5)"
      ]
     },
     "execution_count": 35,
     "metadata": {},
     "output_type": "execute_result"
    }
   ],
   "source": [
    "# Determining the number of rows and columns\n",
    "df.shape"
   ]
  },
  {
   "cell_type": "markdown",
   "id": "3344a5a9",
   "metadata": {},
   "source": [
    "## Exploratory Data Analysis (EDA)"
   ]
  },
  {
   "cell_type": "markdown",
   "id": "2a4ceafb",
   "metadata": {},
   "source": [
    "### NUMERICAL EDA"
   ]
  },
  {
   "cell_type": "markdown",
   "id": "402e21e6",
   "metadata": {},
   "source": [
    "### Count of unique values in each numerical variable"
   ]
  },
  {
   "cell_type": "code",
   "execution_count": 73,
   "id": "24fed67b",
   "metadata": {},
   "outputs": [
    {
     "name": "stdout",
     "output_type": "stream",
     "text": [
      "299000.0    86\n",
      "249000.0    85\n",
      "325000.0    83\n",
      "349000.0    81\n",
      "295000.0    79\n",
      "            ..\n",
      "434000.0     1\n",
      "414000.0     1\n",
      "454000.0     1\n",
      "458000.0     1\n",
      "835000.0     1\n",
      "Name: Price, Length: 700, dtype: int64\n",
      "\n",
      "\n",
      "3.0    2390\n",
      "4.0    1111\n",
      "2.0     790\n",
      "5.0     305\n",
      "1.0      41\n",
      "Name: Number of bedrooms, dtype: int64\n",
      "\n",
      "\n",
      "150.0    162\n",
      "160.0    154\n",
      "200.0    123\n",
      "180.0    123\n",
      "140.0    122\n",
      "        ... \n",
      "297.0      1\n",
      "72.0       1\n",
      "89.0       1\n",
      "76.0       1\n",
      "292.0      1\n",
      "Name: Living area, Length: 228, dtype: int64\n",
      "\n",
      "\n",
      "100.0    57\n",
      "250.0    42\n",
      "300.0    39\n",
      "150.0    39\n",
      "180.0    38\n",
      "         ..\n",
      "927.0     1\n",
      "791.0     1\n",
      "924.0     1\n",
      "902.0     1\n",
      "936.0     1\n",
      "Name: Surface area land, Length: 866, dtype: int64\n",
      "\n",
      "\n"
     ]
    }
   ],
   "source": [
    "# 'Price', 'Number of bedrooms', 'Living area', and 'Surface area land'\n",
    "for i in df.columns[1:]:\n",
    "    print (df[i].value_counts())\n",
    "    print(\"\\n\")"
   ]
  },
  {
   "cell_type": "markdown",
   "id": "3ed5150b",
   "metadata": {},
   "source": [
    "### Discovering correlations"
   ]
  },
  {
   "cell_type": "markdown",
   "id": "411d70d2",
   "metadata": {},
   "source": [
    "To find out which features are strongly or weakly correlated, we can implement the pandas .corr() method.\n",
    "This will guide us particularly when we get to the the maching learning modelling pipeline. "
   ]
  },
  {
   "cell_type": "code",
   "execution_count": 36,
   "id": "07f37724",
   "metadata": {},
   "outputs": [
    {
     "name": "stdout",
     "output_type": "stream",
     "text": [
      "                       Price  Number of bedrooms  Living area  \\\n",
      "Price               1.000000            0.315423     0.480161   \n",
      "Number of bedrooms  0.315423            1.000000     0.476717   \n",
      "Living area         0.480161            0.476717     1.000000   \n",
      "Surface area land   0.189868            0.079278     0.212334   \n",
      "\n",
      "                    Surface area land  \n",
      "Price                        0.189868  \n",
      "Number of bedrooms           0.079278  \n",
      "Living area                  0.212334  \n",
      "Surface area land            1.000000  \n"
     ]
    }
   ],
   "source": [
    "# Looking at possible correlations among the numerical variables\n",
    "# In the next step, we shall visualise the features that have stong positive correlations\n",
    "print(df.corr())"
   ]
  },
  {
   "cell_type": "markdown",
   "id": "bffbd1e6",
   "metadata": {},
   "source": [
    "**KEY INSIGHTS:**\n",
    "\n",
    "All numerical variables that will be treated as features and are weakly-to-moderately correlated with one another \n",
    "which is a good for an upcoming predictive model.\n",
    " \n",
    "In a coefficient-based feature selection, the goal is to find **a feature subset with low feature-feature correlation**, to avoid redundancy, and **high feature-class correlation** to maintain or increase predictive power.\n",
    "It would be good to take note of these points when we proceed to the **II. MODELLING PIPELINE.***"
   ]
  },
  {
   "cell_type": "markdown",
   "id": "db562330",
   "metadata": {},
   "source": [
    "### Statistical information about the price"
   ]
  },
  {
   "cell_type": "code",
   "execution_count": 74,
   "id": "cf5a6476",
   "metadata": {},
   "outputs": [
    {
     "name": "stdout",
     "output_type": "stream",
     "text": [
      "319597.3495794695\n",
      "299000.0\n",
      "0    299000.0\n",
      "dtype: float64\n"
     ]
    }
   ],
   "source": [
    "# Determining the mean, median, and mode of the values of 'Price' via pandas functions\n",
    "print(df['Price'].mean())\n",
    "print(df['Price'].median())\n",
    "print(df['Price'].mode())"
   ]
  },
  {
   "cell_type": "markdown",
   "id": "9b0fcac7",
   "metadata": {},
   "source": [
    "### VISUAL EDA"
   ]
  },
  {
   "cell_type": "markdown",
   "id": "02da4e9a",
   "metadata": {},
   "source": [
    "### Distribution of data under each numerical variable "
   ]
  },
  {
   "cell_type": "code",
   "execution_count": 37,
   "id": "770baced",
   "metadata": {},
   "outputs": [
    {
     "data": {
      "image/png": "[encoded data removed]",
      "text/plain": [
       "<Figure size 432x288 with 1 Axes>"
      ]
     },
     "metadata": {},
     "output_type": "display_data"
    },
    {
     "data": {
      "image/png": "[encoded data removed]",
      "text/plain": [
       "<Figure size 432x288 with 1 Axes>"
      ]
     },
     "metadata": {},
     "output_type": "display_data"
    },
    {
     "data": {
      "image/png": "[encoded data removed]",
      "text/plain": [
       "<Figure size 432x288 with 1 Axes>"
      ]
     },
     "metadata": {},
     "output_type": "display_data"
    },
    {
     "data": {
      "image/png": "[encoded data removed]",
      "text/plain": [
       "<Figure size 432x288 with 1 Axes>"
      ]
     },
     "metadata": {},
     "output_type": "display_data"
    }
   ],
   "source": [
    "#Visualising the distribution of numerical attributes 'Price', 'Number of bedrooms', Living area', \n",
    "# and 'Surface area land'\n",
    "for i in df.columns[1:]:\n",
    "    plt.hist(df[i])\n",
    "    plt.title(i)\n",
    "    plt.show()"
   ]
  },
  {
   "cell_type": "markdown",
   "id": "30506611",
   "metadata": {},
   "source": [
    "**INSIGHT:**\n",
    "**The distribution of numerical attributes 'Price', 'Number of bedrooms', Living area', \n",
    "and 'Surface area land'are all normal. "
   ]
  },
  {
   "cell_type": "markdown",
   "id": "981fd48b",
   "metadata": {},
   "source": [
    "### Correlation plot among numerical variables"
   ]
  },
  {
   "cell_type": "code",
   "execution_count": 28,
   "id": "6c062c0b",
   "metadata": {},
   "outputs": [
    {
     "name": "stdout",
     "output_type": "stream",
     "text": [
      "                       Price  Number of bedrooms  Living area  \\\n",
      "Price               1.000000            0.315423     0.480161   \n",
      "Number of bedrooms  0.315423            1.000000     0.476717   \n",
      "Living area         0.480161            0.476717     1.000000   \n",
      "Surface area land   0.189868            0.079278     0.212334   \n",
      "\n",
      "                    Surface area land  \n",
      "Price                        0.189868  \n",
      "Number of bedrooms           0.079278  \n",
      "Living area                  0.212334  \n",
      "Surface area land            1.000000  \n"
     ]
    },
    {
     "data": {
      "text/plain": [
       "<AxesSubplot:>"
      ]
     },
     "execution_count": 28,
     "metadata": {},
     "output_type": "execute_result"
    },
    {
     "data": {
      "image/png": "[encoded data removed]",
      "text/plain": [
       "<Figure size 432x288 with 2 Axes>"
      ]
     },
     "metadata": {},
     "output_type": "display_data"
    }
   ],
   "source": [
    "# Using python data visualisation libeary, Seaborn, to plot and show the correlation among the numerical variables\n",
    "print(df.corr())\n",
    "sns.heatmap(df.corr())"
   ]
  },
  {
   "cell_type": "markdown",
   "id": "6b008d4f",
   "metadata": {},
   "source": [
    "### Visualising 'Price' in terms of mean, median and mode"
   ]
  },
  {
   "cell_type": "code",
   "execution_count": 59,
   "id": "f1c66521",
   "metadata": {},
   "outputs": [
    {
     "data": {
      "image/png": "[encoded data removed]",
      "text/plain": [
       "<Figure size 1440x720 with 1 Axes>"
      ]
     },
     "metadata": {
      "needs_background": "light"
     },
     "output_type": "display_data"
    }
   ],
   "source": [
    "# Taking a loser look at the distribution by plotting a simple histogram with 10 bins.\n",
    "\n",
    "plt.figure(figsize=(20,10));  \n",
    "plt.hist(df['Price'], color='r');  \n",
    "plt.axvline(df['Price'].mean(), color='m', linewidth=3,label='Mean') \n",
    "plt.axvline(df['Price'].median(), color='b', linestyle='dashed', linewidth=3,label='Median') \n",
    "plt.axvline(df['Price'].mode()[0], color='g', linestyle='dashed', linewidth=3,label='Mode') \n",
    "\n",
    "plt.title('Sale price for houses in Belgium')\n",
    "plt.xlabel('Price')   \n",
    "plt.ylabel('Number of houses')  \n",
    "plt.legend()      \n",
    "\n",
    "mean=round(df['Price'].mean())\n",
    "median=round(df['Price'].median())\n",
    "mode=round(df['Price'].mode())"
   ]
  },
  {
   "cell_type": "markdown",
   "id": "2414ccc3",
   "metadata": {},
   "source": [
    "**Observation:**\n",
    "\n",
    "- In the above histogram we can see that the third bin with the price of 300,00 has the most number of observations.\n",
    "- The majority of the observations lie within the second to fourth bin.\n",
    "- The **mean is 319,597 euros (almost 320,000 euros)** while the **median and mode are 299,000 euros (almost 300,000 euros)**."
   ]
  },
  {
   "cell_type": "markdown",
   "id": "82d9cf0c",
   "metadata": {},
   "source": [
    "## Function cleaning new data based on the parameters applied to baseline df"
   ]
  },
  {
   "cell_type": "code",
   "execution_count": null,
   "id": "bcc8b293",
   "metadata": {},
   "outputs": [],
   "source": [
    "# The purpose of this function is to take a new house's data as input and return those data preprocessed as output.\n",
    "# This is a nested function having underlying functions that would be executed in order to output a new data frame\n",
    "# based on the original baseline data frame but with the new data that is cleaned first before appending to said copy\n",
    "# of the data frame.\n",
    "def preprocess(df):\n",
    "    new_df = df.copy()\n",
    "    \"\"\"\n",
    "    There is a need to create a copy of the original data frame before any data cleaning can be implemented\n",
    "    on data received via a web form that satisfies and conforms to all the fields in the original data frame\n",
    "    \"\"\"\n",
    "    # Implementing subfunction that converts strings values to integer\n",
    "    new_df['Number of bedrooms'] = new_df['Number of bedrooms'].apply(StringtoInt)\n",
    "    new_df['Living area'] = new_df['Living area'].apply(StringtoInt)\n",
    "    new_df['Surface area land'] = new_df['Surface area land'].apply(StringtoInt)\n",
    "    \n",
    "    # Implementing subfunction that drops undesired columns in accordance with baseline data frame fields\n",
    "    new_df = DropColumns(new_df)\n",
    "\n",
    "    # \n",
    "    new_df = imputeAndClean(new_df)\n",
    "    \n",
    "    return new_df"
   ]
  },
  {
   "cell_type": "code",
   "execution_count": null,
   "id": "c5b0bd7b",
   "metadata": {},
   "outputs": [],
   "source": [
    "def StringtToInt(X : int):\n",
    "    \"\"\"\n",
    "    This function receives a value X and converts it to an integer\n",
    "    while 'unknown' or NaN values to 0\n",
    "    \"\"\"    \n",
    "    if not X:\n",
    "         return 0\n",
    "    else: \n",
    "        return 1"
   ]
  },
  {
   "cell_type": "code",
   "execution_count": null,
   "id": "3ae5b75b",
   "metadata": {},
   "outputs": [],
   "source": [
    "def DropColumns(df):\n",
    "    #This functions returns a dataframe only with the columns I decided to use for my model\n",
    "    \"\"\"\n",
    "    This function receives a df and returns a new df without certain columns and with only residential_sale as Type of Sale \n",
    "    \"\"\"\n",
    "    new_df = df.copy()\n",
    "    new_df = new_df.drop(columns = ['Unnamed: 0', 'Location', 'Property subtype', 'Type of sale', 'Kitchen' 'Furnished' 'Open fireplace', 'Terrace' 'Terrace orientation' 'Garden' 'Garden orientation', 'Number of facades' 'Pool' 'Condition' ], axis = 1)\n",
    "    \n",
    "    return new_df"
   ]
  },
  {
   "cell_type": "code",
   "execution_count": null,
   "id": "06ddcba2",
   "metadata": {},
   "outputs": [],
   "source": [
    "def CleanandImpute(df):\n",
    "    \"\"\"\n",
    "    This function cleans and imputes on baseline data frame; That is, it returns a new df \n",
    "    after eliminating unknown and blanks from some columns and \n",
    "    imputing median values on 'Living area' and 'Surface area land'\n",
    "    \"\"\"\n",
    "    new_df = df.copy()\n",
    "    #dropping properties with blank price, condition or kitchen \n",
    "    new_df = new_df.dropna(subset=['Price','Condition','Kitchen'])\n",
    "    #dropping properties with unknown condition\n",
    "    new_df = new_df.drop(index=new_df[new_df['Condition']=='Unknown'].index)\n",
    "    #dropping properties with unknown value for kitchen\n",
    "    new_df = new_df.drop(index=new_df[new_df['Kitchen']=='Unknown'].index)\n",
    "    #Impute missing values in living area, replacing by mean\n",
    "    mean_living_area = new_df['Living area'].mean()\n",
    "    #print(str(int(mean_living_area)))\n",
    "    new_df['Living area'] = new_df['Living area'].fillna(int(mean_living_area))\n",
    "    \n",
    "    #Replace unknown in # of facades for NaN and convert to numeric\n",
    "    new_df['Number of facades']  = new_df['Number of facades'].replace(\"Unknown\", np.NaN)\n",
    "    new_df['Number of facades']  = pd.to_numeric(new_df['Number of facades'])\n",
    "    \n",
    "    #Impute missing values in number of facades replaced by mean\n",
    "    mean_facades = new_df['Number of facades'].mean()\n",
    "    new_df['Number of facades'] = new_df['Number of facades'].fillna(int(mean_facades))\n",
    "    print(\"Shape is ---->  \" + str(new_df.shape))\n",
    "\n",
    "    return new_df\n"
   ]
  }
 ],
 "metadata": {
  "kernelspec": {
   "display_name": "Python 3 (ipykernel)",
   "language": "python",
   "name": "python3"
  },
  "language_info": {
   "codemirror_mode": {
    "name": "ipython",
    "version": 3
   },
   "file_extension": ".py",
   "mimetype": "text/x-python",
   "name": "python",
   "nbconvert_exporter": "python",
   "pygments_lexer": "ipython3",
   "version": "3.9.7"
  }
 },
 "nbformat": 4,
 "nbformat_minor": 5
}
