{
 "cells": [
  {
   "cell_type": "markdown",
   "id": "b71b2e21",
   "metadata": {},
   "source": [
    "## House price calculator software"
   ]
  },
  {
   "cell_type": "code",
   "execution_count": null,
   "id": "d32e272b",
   "metadata": {},
   "outputs": [],
   "source": [
    "from flask import Flask\n",
    "\n",
    "app = Flask(__name__)\n",
    "\n",
    "@app.route('/')\n",
    "@app.route('/Hello World', methods=[\"POST\", \"GET\"])\n",
    "\n",
    "def hello_world():\n",
    "  user = {'Number of bedrooms':'3', 'Living area':'167', 'Surface area land':'370'}\n",
    "  if user['Number of bedrooms'].isdigit() and user['Living area'].isdigit() and user['Surface land area'].isdigit():\n",
    "    price = int(user.get('Number of bedrooms'))  int(user.get('Living area'))  int(user.get('Surface area land'))\n",
    "    return str(price)\n",
    "  else:\n",
    "    return 'error : expected numbers, got strings.'\n",
    "  if len(user.keys()) < 3:\n",
    "    if 'Number of bedrooms' in user and 'Living area' in user:\n",
    "      return 'error:'  f'3 fields expected {user.keys()}. Pls. include: Surface area land.'\n",
    "    if 'Number of bedrooms' in user and 'Surface area land' in user:\n",
    "      return 'error:' f'3 fields expected {user.keys()}. Pls. include: Living area.'\n",
    "    if 'Living area' in user and 'Surface area land' in user:\n",
    "      return 'error:' f'3 fields are expected {user.keys()}. Pls include: Number of bedrooms.'\n",
    "\n",
    "if __name__ == '__main__':\n",
    "   app.run(port=5000)"
   ]
  }
 ],
 "metadata": {
  "kernelspec": {
   "display_name": "Python 3 (ipykernel)",
   "language": "python",
   "name": "python3"
  },
  "language_info": {
   "codemirror_mode": {
    "name": "ipython",
    "version": 3
   },
   "file_extension": ".py",
   "mimetype": "text/x-python",
   "name": "python",
   "nbconvert_exporter": "python",
   "pygments_lexer": "ipython3",
   "version": "3.9.7"
  }
 },
 "nbformat": 4,
 "nbformat_minor": 5
}
