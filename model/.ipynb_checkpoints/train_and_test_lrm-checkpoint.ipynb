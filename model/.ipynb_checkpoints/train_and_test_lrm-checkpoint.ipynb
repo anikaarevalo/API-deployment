{
 "cells": [
  {
   "cell_type": "markdown",
   "id": "20725ca1",
   "metadata": {},
   "source": [
    "## II. DATA MODELLING"
   ]
  },
  {
   "cell_type": "markdown",
   "id": "9c10a79b",
   "metadata": {},
   "source": [
    "## Data tools and file handling"
   ]
  },
  {
   "cell_type": "code",
   "execution_count": null,
   "id": "840edba0",
   "metadata": {},
   "outputs": [],
   "source": [
    "from sklearn.datasets import load_iris\n",
    "import pandas as pd\n",
    "from sklearn.neighbors import KNeighborsClassifier\n",
    "from sklearn.model_selection import train_test_split\n",
    "from sklearn import metrics\n",
    "import pickle"
   ]
  },
  {
   "cell_type": "code",
   "execution_count": 19,
   "id": "fac2b717",
   "metadata": {},
   "outputs": [
    {
     "data": {
      "text/html": [
       "<div>\n",
       "<style scoped>\n",
       "    .dataframe tbody tr th:only-of-type {\n",
       "        vertical-align: middle;\n",
       "    }\n",
       "\n",
       "    .dataframe tbody tr th {\n",
       "        vertical-align: top;\n",
       "    }\n",
       "\n",
       "    .dataframe thead th {\n",
       "        text-align: right;\n",
       "    }\n",
       "</style>\n",
       "<table border=\"1\" class=\"dataframe\">\n",
       "  <thead>\n",
       "    <tr style=\"text-align: right;\">\n",
       "      <th></th>\n",
       "      <th>Property type</th>\n",
       "      <th>Price</th>\n",
       "      <th>Number of bedrooms</th>\n",
       "      <th>Living area</th>\n",
       "      <th>Surface area land</th>\n",
       "    </tr>\n",
       "  </thead>\n",
       "  <tbody>\n",
       "    <tr>\n",
       "      <th>105</th>\n",
       "      <td>HOUSE</td>\n",
       "      <td>295000.0</td>\n",
       "      <td>1.0</td>\n",
       "      <td>70.0</td>\n",
       "      <td>417.0</td>\n",
       "    </tr>\n",
       "    <tr>\n",
       "      <th>106</th>\n",
       "      <td>HOUSE</td>\n",
       "      <td>235000.0</td>\n",
       "      <td>1.0</td>\n",
       "      <td>70.0</td>\n",
       "      <td>104.0</td>\n",
       "    </tr>\n",
       "    <tr>\n",
       "      <th>107</th>\n",
       "      <td>HOUSE</td>\n",
       "      <td>275000.0</td>\n",
       "      <td>1.0</td>\n",
       "      <td>90.0</td>\n",
       "      <td>415.0</td>\n",
       "    </tr>\n",
       "    <tr>\n",
       "      <th>108</th>\n",
       "      <td>HOUSE</td>\n",
       "      <td>295000.0</td>\n",
       "      <td>1.0</td>\n",
       "      <td>70.0</td>\n",
       "      <td>417.0</td>\n",
       "    </tr>\n",
       "    <tr>\n",
       "      <th>111</th>\n",
       "      <td>HOUSE</td>\n",
       "      <td>239000.0</td>\n",
       "      <td>1.0</td>\n",
       "      <td>100.0</td>\n",
       "      <td>355.0</td>\n",
       "    </tr>\n",
       "  </tbody>\n",
       "</table>\n",
       "</div>"
      ],
      "text/plain": [
       "    Property type     Price  Number of bedrooms  Living area  \\\n",
       "105         HOUSE  295000.0                 1.0         70.0   \n",
       "106         HOUSE  235000.0                 1.0         70.0   \n",
       "107         HOUSE  275000.0                 1.0         90.0   \n",
       "108         HOUSE  295000.0                 1.0         70.0   \n",
       "111         HOUSE  239000.0                 1.0        100.0   \n",
       "\n",
       "     Surface area land  \n",
       "105              417.0  \n",
       "106              104.0  \n",
       "107              415.0  \n",
       "108              417.0  \n",
       "111              355.0  "
      ]
     },
     "execution_count": 19,
     "metadata": {},
     "output_type": "execute_result"
    }
   ],
   "source": [
    "model_df = pd.read_csv('/Users/anix/API-deployment/preprocessing/baseline.csv', index_col=0)\n",
    "model_df.head()"
   ]
  },
  {
   "cell_type": "markdown",
   "id": "fef353cb",
   "metadata": {},
   "source": [
    "## Testing and training a multiple regression model"
   ]
  },
  {
   "cell_type": "code",
   "execution_count": 20,
   "id": "0ae78a3a",
   "metadata": {},
   "outputs": [],
   "source": [
    "# Splitting our dataset into its attributes and labels\n",
    "# The X variable (i.e. attributes) contains the last three columns of our data frame, while y contains the label.\n",
    "X = model_df.iloc[:, 2:5].values\n",
    "y = model_df.iloc[:,1].values"
   ]
  },
  {
   "cell_type": "code",
   "execution_count": 21,
   "id": "54349abd",
   "metadata": {},
   "outputs": [],
   "source": [
    "# Splitting the data between training and testing data \n",
    "X_train, X_test, y_train, y_test = train_test_split(X, y, test_size=0.4, random_state = 4)"
   ]
  },
  {
   "cell_type": "code",
   "execution_count": 22,
   "id": "872b69fa",
   "metadata": {},
   "outputs": [
    {
     "data": {
      "text/plain": [
       "LinearRegression()"
      ]
     },
     "execution_count": 22,
     "metadata": {},
     "output_type": "execute_result"
    }
   ],
   "source": [
    "# Scikit-Learn’s LinearRegression class actually also works for several independent variables.  \n",
    "from sklearn.linear_model import LinearRegression\n",
    "regressor = LinearRegression()\n",
    "\n",
    "# Starting to train the model on our training dataset. \n",
    "# by first fitting the training data\n",
    "regressor.fit(X_train, y_train)"
   ]
  },
  {
   "cell_type": "code",
   "execution_count": 25,
   "id": "9e9b5aaa",
   "metadata": {},
   "outputs": [],
   "source": [
    "# Testing the regressor by using it to predict on our test data. \n",
    "# We can use our model’s .predict method to do this.\n",
    "predictions = regressor.predict(X_test)"
   ]
  },
  {
   "cell_type": "markdown",
   "id": "595acc97",
   "metadata": {},
   "source": [
    "**Now the model’s predictions are stored in the variable predictions, which is a Numpy array.**"
   ]
  },
  {
   "cell_type": "markdown",
   "id": "85ff6c55",
   "metadata": {},
   "source": [
    "## Model evaluation using an adjusted RSquared metric"
   ]
  },
  {
   "cell_type": "markdown",
   "id": "82b048c2",
   "metadata": {},
   "source": [
    "A caveat: since we are using several independent variables, RSquared metric can only be used indirectly. \n",
    "The drawback of this evaluation method is that each time we add an independent variable, the metric’s value will get closer to 1; this leads to a performance rating that is inaccurately high.\n",
    "\n",
    "To tackle this obstacle, we must manually implement an **Adjusted R Squared metric since Scikit-Learn does not provide a function to do this.**\n",
    "\n",
    "Hence an **alternative approach** entails the following:\n",
    "- First we need to find R Squared by using the Scikit-Learn’s r2_score function. \n",
    "- Then, we need to plug in the R Squared value into the formula above to get adjusted R Squared."
   ]
  },
  {
   "cell_type": "code",
   "execution_count": 26,
   "id": "e660a997",
   "metadata": {},
   "outputs": [],
   "source": [
    "# Using SKlearn's function to determine RSquared metric\n",
    "from sklearn.metrics import r2_score\n",
    "r_squared = r2_score(y_test, predictions)"
   ]
  },
  {
   "cell_type": "code",
   "execution_count": 28,
   "id": "255de6ca",
   "metadata": {},
   "outputs": [
    {
     "name": "stdout",
     "output_type": "stream",
     "text": [
      "1855\n"
     ]
    }
   ],
   "source": [
    "#Now we need to find the number of data values in our test dataset. \n",
    "# This can be done by using len() to find the number of rows in X_test. \n",
    "N = len(X_test)\n",
    "print(N)"
   ]
  },
  {
   "cell_type": "code",
   "execution_count": 29,
   "id": "0305e9bf",
   "metadata": {},
   "outputs": [],
   "source": [
    "# Now we need to find the number of predictors in X_test. \n",
    "# There were 3 predictors in our dataset: 'Number of bedrooms', 'Living area', and 'Surface area land'\n",
    "k = 3"
   ]
  },
  {
   "cell_type": "code",
   "execution_count": 30,
   "id": "72675452",
   "metadata": {},
   "outputs": [
    {
     "name": "stdout",
     "output_type": "stream",
     "text": [
      "The adjusted R score of our model is: 0.062024122891589206\n"
     ]
    }
   ],
   "source": [
    "# Now all we have to do is plug in these numbers into the formula for adjusted RSquared metric\n",
    "# Let's implement the forumula manually through code\n",
    "\n",
    "adjusted_r_squared = 1 - (((1 - (r_squared ** 2)) * (N - 1)) / (N - k - 1))\n",
    "\n",
    "print(f'The adjusted R score of our model is: {adjusted_r_squared}')"
   ]
  }
 ],
 "metadata": {
  "kernelspec": {
   "display_name": "Python 3 (ipykernel)",
   "language": "python",
   "name": "python3"
  },
  "language_info": {
   "codemirror_mode": {
    "name": "ipython",
    "version": 3
   },
   "file_extension": ".py",
   "mimetype": "text/x-python",
   "name": "python",
   "nbconvert_exporter": "python",
   "pygments_lexer": "ipython3",
   "version": "3.9.7"
  }
 },
 "nbformat": 4,
 "nbformat_minor": 5
}
