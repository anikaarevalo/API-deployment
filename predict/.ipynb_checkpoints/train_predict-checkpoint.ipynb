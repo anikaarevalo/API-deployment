{
 "cells": [
  {
   "cell_type": "markdown",
   "id": "b06992ce",
   "metadata": {},
   "source": [
    "## A FUNCTION TO PREDICT A NEW HOUSE'S PRICE"
   ]
  },
  {
   "cell_type": "code",
   "execution_count": 30,
   "id": "eb28d3cc",
   "metadata": {},
   "outputs": [],
   "source": [
    "# Importing python data analysis tools and relevant machine-learning libraries\n",
    "import pandas as pd\n",
    "import numpy as np\n",
    "from sklearn.linear_model import LinearRegression\n",
    "from sklearn.model_selection import train_test_split\n",
    "from sklearn import metrics\n",
    "from sklearn.metrics import r2_score\n",
    "from sklearn.metrics import mean_squared_error\n",
    "import pickle"
   ]
  },
  {
   "cell_type": "code",
   "execution_count": 57,
   "id": "e51db281",
   "metadata": {},
   "outputs": [],
   "source": [
    "# A function to train our model using linear regression model that outputs result of X_test\n",
    "def train():\n",
    "    data = pd.read_csv('/Users/anix/API-deployment/preprocessing/baseline.csv', index_col=0)\n",
    "    array = data.values\n",
    "    X = array[:,2:5]\n",
    "    Y = array[:,1]\n",
    "    X_train, X_test, Y_train, Y_test = train_test_split(X, Y, test_size=0.2, random_state=42)\n",
    "    # Fit the model on training set\n",
    "    model = LinearRegression()\n",
    "    model.fit(X_train, Y_train)\n",
    "    # save the model to disk\n",
    "    filename = 'predict.sav'\n",
    "    pickle.dump(model, open(filename, 'wb'))\n",
    "\n",
    "    result = loaded_model.score(X_test, Y_test)\n",
    "    print(result)"
   ]
  },
  {
   "cell_type": "code",
   "execution_count": 58,
   "id": "613bdec6",
   "metadata": {},
   "outputs": [
    {
     "name": "stdout",
     "output_type": "stream",
     "text": [
      "0.2226912365378506\n"
     ]
    }
   ],
   "source": [
    "# Calling the function to output result\n",
    "train()"
   ]
  },
  {
   "cell_type": "code",
   "execution_count": 59,
   "id": "6067a77e",
   "metadata": {},
   "outputs": [],
   "source": [
    "# A function that predicts label (price) when user inputs accprding to the parameters of the linear regression model\n",
    "def predict(user_data):    \n",
    "    \n",
    "    LR =  pickle.load(open('predict.sav', 'rb'))\n",
    "\n",
    "    # Predicting on test set\n",
    "    y_prediction =  LR.predict(user_data)\n",
    "    \n",
    "    \n",
    "    # Printing accuracy\n",
    "    #score=r2_score(y_test,y_prediction)\n",
    "    #print('r2 score is', score)\n",
    "    #print('mean_sqrd_error is==', mean_squared_error(y_test,y_prediction))\n",
    "    #print('root_mean_squared error of is==', np.sqrt(mean_squared_error(y_test,y_prediction)))\n",
    "    \n",
    "    # Saving the model\n",
    "    #print('Model saved.')\n",
    "    return y_prediction"
   ]
  },
  {
   "cell_type": "code",
   "execution_count": 56,
   "id": "7876ee96",
   "metadata": {},
   "outputs": [
    {
     "data": {
      "text/plain": [
       "array([230410.87619837])"
      ]
     },
     "execution_count": 56,
     "metadata": {},
     "output_type": "execute_result"
    }
   ],
   "source": [
    "# Calling the prediction of the label (price) in the form of a numpy array\n",
    "predict(np.array([3,100,200]).reshape(1, -1))"
   ]
  }
 ],
 "metadata": {
  "kernelspec": {
   "display_name": "Python 3 (ipykernel)",
   "language": "python",
   "name": "python3"
  },
  "language_info": {
   "codemirror_mode": {
    "name": "ipython",
    "version": 3
   },
   "file_extension": ".py",
   "mimetype": "text/x-python",
   "name": "python",
   "nbconvert_exporter": "python",
   "pygments_lexer": "ipython3",
   "version": "3.9.7"
  }
 },
 "nbformat": 4,
 "nbformat_minor": 5
}
