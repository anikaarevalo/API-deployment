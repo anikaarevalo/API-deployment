{
 "cells": [
  {
   "cell_type": "markdown",
   "id": "89342851",
   "metadata": {},
   "source": [
    "## A FUNCTION TO PREDICT A NEW HOUSE'S PRICE"
   ]
  },
  {
   "cell_type": "code",
   "execution_count": null,
   "id": "d003ca14",
   "metadata": {},
   "outputs": [],
   "source": [
    "import pandas as pd\n",
    "import numpy as np\n",
    "from sklearn.linear_model import LinearRegression\n",
    "from sklearn.model_selection import train_test_split\n",
    "from sklearn import metrics\n",
    "from sklearn.metrics import r2_score\n",
    "from sklearn.metrics import mean_squared_error\n",
    "import pickle"
   ]
  },
  {
   "cell_type": "code",
   "execution_count": null,
   "id": "5018c878",
   "metadata": {},
   "outputs": [],
   "source": [
    "def train():\n",
    "    # Importing data\n",
    "    model_df = pd.read_csv('/Users/anix/API-deployment/preprocessing/baseline.csv', index_col=0)\n",
    "\n",
    "    # Splitting dataset into X and y\n",
    "    X = model_df.iloc[:, 2:5].values\n",
    "    y = model_df.iloc[:,1].values\n",
    "\n",
    "    # Splitting the data for cross validation\n",
    "    X_train, X_test, y_train, y_test = train_test_split(X, y, test_size=0.2, random_state = 42)\n",
    "\n",
    "    # Creating model\n",
    "    LR = LinearRegression()\n",
    "\n",
    "    # Fitting model\n",
    "    LR.fit(X_train,y_train)\n",
    "\n",
    "def test():\n",
    "    # Predicting on test set\n",
    "    y_prediction =  LR.predict(X_test)\n",
    "    y_prediction\n",
    "    \n",
    "    # Printing accuracy\n",
    "    score=r2_score(y_test,y_prediction)\n",
    "    print('r2 score is', score)\n",
    "    print('mean_sqrd_error is==', mean_squared_error(y_test,y_prediction))\n",
    "    print('root_mean_squared error of is==', np.sqrt(mean_squared_error(y_test,y_prediction)))\n",
    "    \n",
    "    # Saving the model\n",
    "    pickle.dump(LR, open('/Users/anix/API-deployment/predict/prediction.pickle', 'wb'))\n",
    "    print('Model saved.')\n",
    "    "
   ]
  }
 ],
 "metadata": {
  "kernelspec": {
   "display_name": "Python 3 (ipykernel)",
   "language": "python",
   "name": "python3"
  },
  "language_info": {
   "codemirror_mode": {
    "name": "ipython",
    "version": 3
   },
   "file_extension": ".py",
   "mimetype": "text/x-python",
   "name": "python",
   "nbconvert_exporter": "python",
   "pygments_lexer": "ipython3",
   "version": "3.9.7"
  }
 },
 "nbformat": 4,
 "nbformat_minor": 5
}
