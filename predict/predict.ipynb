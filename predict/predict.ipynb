{
 "cells": [
  {
   "cell_type": "code",
   "execution_count": 2,
   "id": "4b2d0541",
   "metadata": {},
   "outputs": [
    {
     "data": {
      "text/plain": [
       "array([316708.02693164])"
      ]
     },
     "execution_count": 2,
     "metadata": {},
     "output_type": "execute_result"
    }
   ],
   "source": [
    "# Importing python data analysis tools and relevant machine-learning libraries\n",
    "import pandas as pd\n",
    "import numpy as np\n",
    "from sklearn.linear_model import LinearRegression\n",
    "from sklearn.model_selection import train_test_split\n",
    "from sklearn import metrics\n",
    "from sklearn.metrics import r2_score\n",
    "from sklearn.metrics import mean_squared_error\n",
    "import pickle\n",
    "\n",
    "# A function that predicts label (price) when user inputs accprding to the parameters of the linear regression model\n",
    "def predict(user_data):    \n",
    "    \n",
    "    LR =  pickle.load(open('predict.sav', 'rb'))\n",
    "\n",
    "    # Predicting on test set\n",
    "    y_prediction =  LR.predict(user_data)\n",
    "    \n",
    "    \n",
    "    # Printing accuracy\n",
    "    #score=r2_score(y_test,y_prediction)\n",
    "    #print('r2 score is', score)\n",
    "    #print('mean_sqrd_error is==', mean_squared_error(y_test,y_prediction))\n",
    "    #print('root_mean_squared error of is==', np.sqrt(mean_squared_error(y_test,y_prediction)))\n",
    "    \n",
    "    # Saving the model\n",
    "    #print('Model saved.')\n",
    "    return y_prediction\n",
    "\n",
    "# Calling the prediction of the label (price) in the form of a numpy array\n",
    "predict(np.array([3,167,370]).reshape(1, -1))"
   ]
  },
  {
   "cell_type": "code",
   "execution_count": null,
   "id": "019dc2c5",
   "metadata": {},
   "outputs": [],
   "source": []
  }
 ],
 "metadata": {
  "kernelspec": {
   "display_name": "Python 3 (ipykernel)",
   "language": "python",
   "name": "python3"
  },
  "language_info": {
   "codemirror_mode": {
    "name": "ipython",
    "version": 3
   },
   "file_extension": ".py",
   "mimetype": "text/x-python",
   "name": "python",
   "nbconvert_exporter": "python",
   "pygments_lexer": "ipython3",
   "version": "3.9.7"
  }
 },
 "nbformat": 4,
 "nbformat_minor": 5
}
