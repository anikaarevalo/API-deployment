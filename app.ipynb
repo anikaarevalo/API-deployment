{
 "cells": [
  {
   "cell_type": "markdown",
   "id": "2bf47d76",
   "metadata": {},
   "source": [
    "## House price calculator software"
   ]
  },
  {
   "cell_type": "code",
   "execution_count": null,
   "id": "217b3907",
   "metadata": {},
   "outputs": [],
   "source": [
    "import numpy as np\n",
    "import pandas as pd\n",
    "import sys\n",
    "import json\n",
    "import joblib\n",
    "import importlib.util  \n",
    "sys.path.append('./model')\n",
    "sys.path.append('./preprocessing')\n",
    "sys.path.append('./predict')\n",
    "#import preprocessing.cleaning_data as cleaning_data\n",
    "#import predict.prediction as prediction\n",
    "from preprocessing.cleaning_data import checkData\n",
    "from preprocessing.cleaning_data import creatingDummies\n",
    "from predict.prediction import predict_price\n",
    "#import preprocessing.cleaning_data as cleaning_data\n",
    "#import predict.prediction as prediction \n",
    "\n",
    "from flask import Flask, request, jsonify, render_template\n",
    "\n",
    "app = Flask(__name__)\n",
    "\n",
    "@app.route('/', methods=['GET'])\n",
    "def alive():\n",
    "    return '<h1>This is server is alive!</h1>'\n",
    "\n",
    "\n",
    "@app.route('/predict', methods=['POST','GET'])\n",
    "def predict():\n",
    "    \"\"\"\n",
    "    This function will be use for the prediction of property\n",
    "    \"\"\"\n",
    "    \n",
    "    if request.method == 'POST':\n",
    "            number_rooms = request.form.get('number_rooms')\n",
    "            living_area =  request.form.get('living_area')\n",
    "            surface_area =  request.form.get('surface_area')\n",
    "            number_facades =  request.form.get('number_facades')\n",
    "            furnished = request.form.get('furnisheddropdown')\n",
    "            terrace = request.form.get('terracedropdown')\n",
    "            garden = request.form.get('gardendropdown')\n",
    "            fireplace = request.form.get('fireplacedropdown')\n",
    "            pool = request.form.get('pooldropdown')\n",
    "            #REMEMBER: this is property subtype in de df\n",
    "            property_type= request.form.get('propertydropdown')\n",
    "            kitchen = request.form.get('kitchendropdown')\n",
    "            condition = request.form.get('conditiondropdown')"
   ]
  }
 ],
 "metadata": {
  "kernelspec": {
   "display_name": "Python 3 (ipykernel)",
   "language": "python",
   "name": "python3"
  },
  "language_info": {
   "codemirror_mode": {
    "name": "ipython",
    "version": 3
   },
   "file_extension": ".py",
   "mimetype": "text/x-python",
   "name": "python",
   "nbconvert_exporter": "python",
   "pygments_lexer": "ipython3",
   "version": "3.9.7"
  }
 },
 "nbformat": 4,
 "nbformat_minor": 5
}
