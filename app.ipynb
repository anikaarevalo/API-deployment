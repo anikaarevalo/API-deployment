{
 "cells": [
  {
   "cell_type": "code",
   "execution_count": null,
   "id": "ec4cd004",
   "metadata": {},
   "outputs": [],
   "source": [
    "from flask import Flask\n",
    "\n",
    "app = Flask(__name__)\n",
    "\n",
    "@app.route('/')\n",
    "@app.route('/Hello World', methods=[\"POST\", \"GET\"])\n",
    "\n",
    "def hello_world():\n",
    "  user = {'Number of bedrooms':'3', 'Land area':'300000', 'Surface area land':''}\n",
    "  if user['salary'].isdigit() and user['bonus'].isdigit() and user['taxes'].isdigit():\n",
    "    pay = int(user.get('salary')) + int(user.get('bonus')) - int(user.get('taxes'))\n",
    "    return str(pay)\n",
    "  else:\n",
    "    return 'error : expected numbers, got strings.'\n",
    "  if len(user.keys()) < 3:\n",
    "    if 'salary' in user and 'bonus' in user:\n",
    "      return 'error:'  f'3 fields expected {user.keys()}. Pls. include: taxes.'\n",
    "    if 'salary' in user and 'taxes' in user:\n",
    "      return 'error:' f'3 fields expected {user.keys()}. Pls. include: bonus.'\n",
    "    if 'taxes' in user and 'bonus' in user:\n",
    "      return 'error:' f'3 fields are expected {user.keys()}. Pls include: salary.'\n",
    "\n",
    "if __name__ == '__main__':\n",
    "   app.run(port=5000)"
   ]
  }
 ],
 "metadata": {
  "kernelspec": {
   "display_name": "Python 3 (ipykernel)",
   "language": "python",
   "name": "python3"
  },
  "language_info": {
   "codemirror_mode": {
    "name": "ipython",
    "version": 3
   },
   "file_extension": ".py",
   "mimetype": "text/x-python",
   "name": "python",
   "nbconvert_exporter": "python",
   "pygments_lexer": "ipython3",
   "version": "3.9.7"
  }
 },
 "nbformat": 4,
 "nbformat_minor": 5
}
