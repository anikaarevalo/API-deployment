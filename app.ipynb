{
 "cells": [
  {
   "cell_type": "markdown",
   "id": "cc794e1a",
   "metadata": {},
   "source": [
    "## House price calculator software"
   ]
  },
  {
   "cell_type": "code",
   "execution_count": 1,
   "id": "5e13d0ca",
   "metadata": {},
   "outputs": [
    {
     "ename": "FileNotFoundError",
     "evalue": "[Errno 2] No such file or directory: 'predict.sav'",
     "output_type": "error",
     "traceback": [
      "\u001b[0;31m---------------------------------------------------------------------------\u001b[0m",
      "\u001b[0;31mFileNotFoundError\u001b[0m                         Traceback (most recent call last)",
      "\u001b[0;32m/var/folders/hm/tsyh26qd4_qc7x70p8ch6mc80000gp/T/ipykernel_25233/2555502985.py\u001b[0m in \u001b[0;36m<module>\u001b[0;34m\u001b[0m\n\u001b[1;32m      9\u001b[0m \u001b[0msys\u001b[0m\u001b[0;34m.\u001b[0m\u001b[0mpath\u001b[0m\u001b[0;34m.\u001b[0m\u001b[0mappend\u001b[0m\u001b[0;34m(\u001b[0m\u001b[0;34m'./predict'\u001b[0m\u001b[0;34m)\u001b[0m\u001b[0;34m\u001b[0m\u001b[0;34m\u001b[0m\u001b[0m\n\u001b[1;32m     10\u001b[0m \u001b[0;31m#import preprocessing.cleaning_data as cleaning_data\u001b[0m\u001b[0;34m\u001b[0m\u001b[0;34m\u001b[0m\u001b[0m\n\u001b[0;32m---> 11\u001b[0;31m \u001b[0;32mimport\u001b[0m \u001b[0mpredict\u001b[0m\u001b[0;34m.\u001b[0m\u001b[0mpredict\u001b[0m \u001b[0;32mas\u001b[0m \u001b[0mprediction\u001b[0m\u001b[0;34m\u001b[0m\u001b[0;34m\u001b[0m\u001b[0m\n\u001b[0m\u001b[1;32m     12\u001b[0m \u001b[0;31m#from preprocessing.cleaning_data import checkData\u001b[0m\u001b[0;34m\u001b[0m\u001b[0;34m\u001b[0m\u001b[0m\n\u001b[1;32m     13\u001b[0m \u001b[0;31m#from preprocessing.cleaning_data import creatingDummies\u001b[0m\u001b[0;34m\u001b[0m\u001b[0;34m\u001b[0m\u001b[0m\n",
      "\u001b[0;32m~/API-deployment/./predict/predict.py\u001b[0m in \u001b[0;36m<module>\u001b[0;34m\u001b[0m\n\u001b[1;32m     35\u001b[0m \u001b[0;34m\u001b[0m\u001b[0m\n\u001b[1;32m     36\u001b[0m \u001b[0;31m# Calling the prediction of the label (price) in the form of a numpy array\u001b[0m\u001b[0;34m\u001b[0m\u001b[0;34m\u001b[0m\u001b[0m\n\u001b[0;32m---> 37\u001b[0;31m \u001b[0mpredict\u001b[0m\u001b[0;34m(\u001b[0m\u001b[0mnp\u001b[0m\u001b[0;34m.\u001b[0m\u001b[0marray\u001b[0m\u001b[0;34m(\u001b[0m\u001b[0;34m[\u001b[0m\u001b[0;36m3\u001b[0m\u001b[0;34m,\u001b[0m\u001b[0;36m167\u001b[0m\u001b[0;34m,\u001b[0m\u001b[0;36m370\u001b[0m\u001b[0;34m]\u001b[0m\u001b[0;34m)\u001b[0m\u001b[0;34m.\u001b[0m\u001b[0mreshape\u001b[0m\u001b[0;34m(\u001b[0m\u001b[0;36m1\u001b[0m\u001b[0;34m,\u001b[0m \u001b[0;34m-\u001b[0m\u001b[0;36m1\u001b[0m\u001b[0;34m)\u001b[0m\u001b[0;34m)\u001b[0m\u001b[0;34m\u001b[0m\u001b[0;34m\u001b[0m\u001b[0m\n\u001b[0m\u001b[1;32m     38\u001b[0m \u001b[0;34m\u001b[0m\u001b[0m\n",
      "\u001b[0;32m~/API-deployment/./predict/predict.py\u001b[0m in \u001b[0;36mpredict\u001b[0;34m(user_data)\u001b[0m\n\u001b[1;32m     18\u001b[0m \u001b[0;32mdef\u001b[0m \u001b[0mpredict\u001b[0m\u001b[0;34m(\u001b[0m\u001b[0muser_data\u001b[0m\u001b[0;34m)\u001b[0m\u001b[0;34m:\u001b[0m\u001b[0;34m\u001b[0m\u001b[0;34m\u001b[0m\u001b[0m\n\u001b[1;32m     19\u001b[0m \u001b[0;34m\u001b[0m\u001b[0m\n\u001b[0;32m---> 20\u001b[0;31m     \u001b[0mLR\u001b[0m \u001b[0;34m=\u001b[0m  \u001b[0mpickle\u001b[0m\u001b[0;34m.\u001b[0m\u001b[0mload\u001b[0m\u001b[0;34m(\u001b[0m\u001b[0mopen\u001b[0m\u001b[0;34m(\u001b[0m\u001b[0;34m'predict.sav'\u001b[0m\u001b[0;34m,\u001b[0m \u001b[0;34m'rb'\u001b[0m\u001b[0;34m)\u001b[0m\u001b[0;34m)\u001b[0m\u001b[0;34m\u001b[0m\u001b[0;34m\u001b[0m\u001b[0m\n\u001b[0m\u001b[1;32m     21\u001b[0m \u001b[0;34m\u001b[0m\u001b[0m\n\u001b[1;32m     22\u001b[0m     \u001b[0;31m# Predicting on test set\u001b[0m\u001b[0;34m\u001b[0m\u001b[0;34m\u001b[0m\u001b[0m\n",
      "\u001b[0;31mFileNotFoundError\u001b[0m: [Errno 2] No such file or directory: 'predict.sav'"
     ]
    }
   ],
   "source": [
    "import numpy as np\n",
    "import pandas as pd\n",
    "import sys\n",
    "import json\n",
    "import joblib\n",
    "import importlib.util  \n",
    "#sys.path.append('./model')\n",
    "#sys.path.append('./preprocessing')\n",
    "sys.path.append('./predict')\n",
    "#import preprocessing.cleaning_data as cleaning_data\n",
    "import predict.predict as prediction\n",
    "#from preprocessing.cleaning_data import checkData\n",
    "#from preprocessing.cleaning_data import creatingDummies\n",
    "from predict.predict import user_input\n",
    "#import preprocessing.cleaning_data as cleaning_data\n",
    "#import predict.prediction as prediction \n",
    "\n",
    "from flask import Flask, request, jsonify, render_template\n",
    "\n",
    "app = Flask(__name__)\n",
    "\n",
    "@app.route('/', methods=['GET'])\n",
    "def alive():\n",
    "    return '<h1>This is server is alive!</h1>'\n",
    "\n",
    "\n",
    "@app.route('/predict', methods=['POST','GET'])\n",
    "def predict():\n",
    "    \"\"\"\n",
    "    This function will be use for the prediction of property\n",
    "    \"\"\"\n",
    "    \n",
    "    if request.method == 'POST':\n",
    "            number_rooms = request.form.get('bedrooms')\n",
    "            living_area =  request.form.get('living_area')\n",
    "            surface_area =  request.form.get('surface_area') \n",
    "\n",
    "            data = {\n",
    "             'Number of bedrooms':str(bedrooms), 'Living area':str(living_area),'Surface area land':str(surface_area) \n",
    "            }\n",
    "           \n",
    "            if (validData == False):\n",
    "                return render_template(\"result.html\", result=\"Please fill in all fields\")\n",
    "            \n",
    "            else:\n",
    "                df = pd.DataFrame(data, index=list(range(len(data))))\n",
    "                df = clean.creatingDummies(df)\n",
    "                ##########################\n",
    "                # passing the file name and path as argument\n",
    "                spec1 = importlib.util.spec_from_file_location(\n",
    "                    \"prediction\", \"./predict/predict.py\") \n",
    "\n",
    "                # importing the module as clean\n",
    "                predicter = importlib.util.module_from_spec(spec1)       \n",
    "                spec1.loader.exec_module(predicter)\n",
    "                # calling predicted price\n",
    "                predicted_price = predicter.predict_price(df)[0]\n",
    "            ##################################    \n",
    "               \n",
    "               # predicted_price = prediction.predict(df)[0]\n",
    "                \n",
    "                result_price = \"The price of your property is: \"+ str(\"{:,.2f}\".format(predicted_price)) + \" EUR\"\n",
    "                return render_template(\"result.html\", result = result_price )\n",
    "\n",
    "    if request.method == 'GET':\n",
    "        return render_template(\"index.html\")\n",
    "    \n",
    "\n",
    "if __name__ == '__main__':\n",
    "   app.run(debug=True)\n",
    "\n"
   ]
  },
  {
   "cell_type": "code",
   "execution_count": null,
   "id": "2e8947f8",
   "metadata": {},
   "outputs": [],
   "source": []
  }
 ],
 "metadata": {
  "kernelspec": {
   "display_name": "Python 3 (ipykernel)",
   "language": "python",
   "name": "python3"
  },
  "language_info": {
   "codemirror_mode": {
    "name": "ipython",
    "version": 3
   },
   "file_extension": ".py",
   "mimetype": "text/x-python",
   "name": "python",
   "nbconvert_exporter": "python",
   "pygments_lexer": "ipython3",
   "version": "3.9.7"
  }
 },
 "nbformat": 4,
 "nbformat_minor": 5
}
